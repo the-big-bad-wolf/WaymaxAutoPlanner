{
 "cells": [
  {
   "cell_type": "code",
   "execution_count": null,
   "metadata": {},
   "outputs": [],
   "source": [
    "from typing import Tuple\n",
    "import numpy as np\n",
    "import mediapy\n",
    "from tqdm import tqdm\n",
    "import dataclasses\n",
    "import jax\n",
    "import jax.numpy as jnp\n",
    "from waymax import config as _config\n",
    "from waymax import dataloader\n",
    "from waymax import datatypes\n",
    "from waymax import visualization\n",
    "import cv2\n",
    "\n",
    "max_num_objects = 32\n",
    "config = dataclasses.replace(\n",
    "    _config.WOD_1_1_0_TRAINING,\n",
    "    max_num_objects=max_num_objects,\n",
    "    max_num_rg_points=30000,\n",
    "    path=\"./data/training_tfexample.tfrecord@5\",\n",
    ")\n",
    "data_iter = dataloader.simulator_state_generator(config=config)\n",
    "scenario = next(data_iter)\n",
    "scenario = next(data_iter)\n",
    "scenario = next(data_iter)\n",
    "scenario = next(data_iter)\n",
    "scenario = next(data_iter)\n",
    "scenario = next(data_iter)\n",
    "scenario = next(data_iter)\n",
    "scenario = next(data_iter)\n",
    "scenario = next(data_iter)\n",
    "scenario = next(data_iter)\n",
    "\n",
    "def construct_SDC_route(\n",
    "    state,\n",
    "):\n",
    "    \"\"\"Construct a SDC route from the logged trajectory. This is neccessary for the progression metric as WOMD doesn't release their routes.\n",
    "    Args:\n",
    "        state: The simulator state.\n",
    "    Returns:\n",
    "        The updated simulator state with the SDC route.\n",
    "    \"\"\"\n",
    "    # Calculate arc lengths (cumulative distances along the trajectory)\n",
    "    # Select sdc trajectory\n",
    "    sdc_trajectory: datatypes.Trajectory = datatypes.select_by_onehot(\n",
    "        state.log_trajectory,\n",
    "        state.object_metadata.is_sdc,\n",
    "        keepdims=True,\n",
    "    )\n",
    "    x = sdc_trajectory.x\n",
    "    y = sdc_trajectory.y\n",
    "    z = sdc_trajectory.z\n",
    "\n",
    "    # Downsample trajectory coordinates by keeping every 3rd point\n",
    "    stride = 10\n",
    "\n",
    "    # Get downsampled coordinates\n",
    "    x_downsampled = x[..., ::stride]\n",
    "    y_downsampled = y[..., ::stride]\n",
    "    z_downsampled = z[..., ::stride]\n",
    "\n",
    "    # Check if last point needs to be added\n",
    "    num_points = x.shape[-1]\n",
    "    last_included = (num_points - 1) % stride == 0\n",
    "\n",
    "    x = jnp.concatenate([x_downsampled, x[..., -1:]], axis=-1)\n",
    "    y = jnp.concatenate([y_downsampled, y[..., -1:]], axis=-1)\n",
    "    z = jnp.concatenate([z_downsampled, z[..., -1:]], axis=-1)\n",
    "\n",
    "    # Calculate differences between consecutive points\n",
    "    dx = jnp.diff(x, axis=-1)\n",
    "    dy = jnp.diff(y, axis=-1)\n",
    "\n",
    "    # Calculate Euclidean distance for each step\n",
    "    step_distances = jnp.sqrt(dx**2 + dy**2)\n",
    "\n",
    "    # Calculate cumulative distances\n",
    "    arc_lengths = jnp.zeros_like(x)\n",
    "    arc_lengths = arc_lengths.at[..., 1:].set(jnp.cumsum(step_distances, axis=-1))\n",
    "\n",
    "    logged_route = datatypes.Paths(\n",
    "        x=x,\n",
    "        y=y,\n",
    "        z=z,\n",
    "        valid=jnp.array([[True] * len(x[0])]),\n",
    "        arc_length=arc_lengths,\n",
    "        on_route=jnp.array([[True]]),\n",
    "        ids=jnp.array([[0] * len(x)]),  # Dummy ID\n",
    "    )\n",
    "    return dataclasses.replace(\n",
    "        state,\n",
    "        sdc_paths=logged_route,\n",
    "    )\n",
    "\n",
    "scenario = construct_SDC_route(scenario)\n",
    "\n",
    "img = visualization.plot_simulator_state(scenario, use_log_traj=True)\n",
    "imgs = []\n",
    "ray_visualization = []\n",
    "state = scenario\n",
    "\n",
    "\n",
    "def ray_segment_intersection(\n",
    "    ray_angle: jax.Array, start_points: jax.Array, segment_dirs: jax.Array\n",
    ") -> jax.Array:\n",
    "    \"\"\"\n",
    "    Calculate the intersection distances between a ray and line segments.\n",
    "\n",
    "    Args:\n",
    "        ray_angle: The angle of the ray (in radians).\n",
    "        start_points: Array of shape (N, 2) for segment start points (x,y).\n",
    "        segment_dirs: Array of shape (N, 2) for segment directions (dx, dy).\n",
    "\n",
    "    Returns:\n",
    "        Array of distances from origin to intersections. Returns 100.0 if no intersection.\n",
    "    \"\"\"\n",
    "    # Calculate ray direction\n",
    "    ray_dir_x = jnp.sin(ray_angle)\n",
    "    ray_dir_y = jnp.cos(ray_angle)\n",
    "\n",
    "    # Calculate segment direction\n",
    "    segment_dir_x = segment_dirs[:, 0]\n",
    "    segment_dir_y = segment_dirs[:, 1]\n",
    "\n",
    "    # Calculate determinant for intersection test\n",
    "    det = segment_dir_x * ray_dir_y - segment_dir_y * ray_dir_x\n",
    "\n",
    "    # Avoid division by zero for parallel lines\n",
    "    is_parallel = jnp.abs(det) < 1e-8\n",
    "    det = jnp.where(is_parallel, 1.0, det)  # Avoid division by zero\n",
    "\n",
    "    # Calculate t1 and t2 parameters\n",
    "    t1 = (start_points[:, 0] * ray_dir_y - start_points[:, 1] * ray_dir_x) / det\n",
    "    t2 = (start_points[:, 0] * segment_dir_y - start_points[:, 1] * segment_dir_x) / det\n",
    "\n",
    "    # Check if intersection is within segment (0 <= t1 <= 1) and ray (t2 >= 0)\n",
    "    valid_t1 = (t1 >= 0.0) & (t1 <= 1.0)\n",
    "    valid_t2 = t2 >= 0.0\n",
    "\n",
    "    # Combine intersection validity checks\n",
    "    valid_intersection = valid_t1 & valid_t2 & ~is_parallel\n",
    "\n",
    "    # Calculate intersection points and distances\n",
    "    ix = start_points[:, 0] + t1 * segment_dir_x\n",
    "    iy = start_points[:, 1] + t1 * segment_dir_y\n",
    "\n",
    "    # Distance from origin to intersection point\n",
    "    distances = jnp.sqrt(ix**2 + iy**2)\n",
    "\n",
    "    # Make sure distances over 100 are not valid\n",
    "    valid_intersection = valid_intersection & (distances < 100.0)\n",
    "    \n",
    "    # Return distance if valid intersection, otherwise 100.0\n",
    "    return jnp.where(valid_intersection, distances, 100.0)\n",
    "\n",
    "\n",
    "def find_closest_distance(\n",
    "    i, initval: Tuple[jax.Array, datatypes.RoadgraphPoints, jax.Array]\n",
    "):\n",
    "    circogram, rg_points, ray_angles = initval\n",
    "    ray_angle = ray_angles[i]\n",
    "\n",
    "    # Only consider valid points\n",
    "    candidate_points = rg_points.valid\n",
    "\n",
    "    # Only consider road edge points\n",
    "    candidate_points = candidate_points & (\n",
    "        (rg_points.types == datatypes.MapElementIds.ROAD_EDGE_BOUNDARY)\n",
    "        | (rg_points.types == datatypes.MapElementIds.ROAD_EDGE_MEDIAN)\n",
    "        | (rg_points.types == datatypes.MapElementIds.ROAD_EDGE_UNKNOWN)\n",
    "    )\n",
    "\n",
    "    # If no valid points, return the default distance\n",
    "    has_valid = jnp.any(candidate_points)\n",
    "\n",
    "    # Create line segments from roadgraph points\n",
    "    starting_points = jnp.stack([rg_points.x, rg_points.y], axis=1)\n",
    "    dir_xy = jnp.stack([rg_points.dir_x, rg_points.dir_y], axis=1)\n",
    "\n",
    "    # Calculate intersection distances\n",
    "    intersection_distances = ray_segment_intersection(\n",
    "        ray_angle, starting_points, dir_xy\n",
    "    )\n",
    "    masked_distances = jnp.where(candidate_points, intersection_distances, 100.0)\n",
    "\n",
    "    # Find minimum distance among valid points\n",
    "    min_distance = jnp.min(masked_distances)\n",
    "\n",
    "    # Update only the i-th element and return the whole array\n",
    "    circogram = circogram.at[i].set(jnp.where(has_valid, min_distance, circogram[i]))\n",
    "    return circogram, rg_points, ray_angles\n",
    "\n",
    "\n",
    "def create_circogram(observation: datatypes.Observation, num_rays: int) -> jax.Array:\n",
    "    ray_angles = jnp.linspace(0, 2 * jnp.pi, num_rays, endpoint=False)\n",
    "    rg_points = observation.roadgraph_static_points\n",
    "    # For each ray angle, find the closest intersection\n",
    "    circogram = jnp.full(num_rays, 100.0)  # Default max distance\n",
    "    (\n",
    "        circogram,\n",
    "        _,\n",
    "        _,\n",
    "    ) = jax.lax.fori_loop(\n",
    "        0,\n",
    "        num_rays,\n",
    "        find_closest_distance,\n",
    "        (circogram, rg_points, ray_angles),\n",
    "    )\n",
    "    return circogram\n",
    "\n",
    "\n",
    "\n",
    "jit_step = jax.jit(datatypes.update_state_by_log, static_argnums=(1,))\n",
    "jit_observed = jax.jit(datatypes.sdc_observation_from_state, static_argnums=(1,2))\n",
    "jit_create_circogram = jax.jit(create_circogram, static_argnums=(1))\n",
    "for _ in tqdm(range(scenario.remaining_timesteps)):\n",
    "    state = jit_step(state, num_steps=1)\n",
    "    #imgs.append(visualization.plot_simulator_state(state, use_log_traj=True))\n",
    "    imgs.append(\n",
    "        visualization.plot_observation(\n",
    "            jit_observed(state, roadgraph_top_k=2000),\n",
    "            obj_idx=0\n",
    "        )\n",
    "    )\n",
    "\n",
    "    num_rays = 64\n",
    "    ray_angles = jnp.linspace(-jnp.pi, jnp.pi, num_rays, endpoint=False)\n",
    "    observation = jit_observed(state, roadgraph_top_k=2000)\n",
    "    circogram = jit_create_circogram(observation, num_rays)\n",
    "    \n",
    "\n",
    "  # Create a visualization of ray distances\n",
    "    small_size = 500  # Size of the visualization image\n",
    "    scale_factor = 5.0  # Scale factor for distance visualization\n",
    "    x = small_size // 2  # Center of the image\n",
    "    y = small_size // 2  # Center of the image\n",
    "    ray_img = np.ones((small_size, small_size, 3), dtype=np.uint8) * 255  # White background\n",
    "    center = (x, y)  # Center of the image\n",
    "\n",
    "    # Draw rays\n",
    "    for i in range(num_rays):\n",
    "        # Calculate endpoint based on ray angle and distance\n",
    "        angle = ray_angles[i]\n",
    "        dist = circogram[i]\n",
    "\n",
    "        # Scale the distance for visualization\n",
    "        scaled_dist = dist * scale_factor\n",
    "\n",
    "        # Calculate endpoint\n",
    "        end_x = int(center[0] + np.sin(angle) * scaled_dist)\n",
    "        end_y = int(center[1] + np.cos(angle) * scaled_dist)\n",
    "\n",
    "        # Draw a line from center to endpoint\n",
    "        cv2.line(ray_img, center, (end_x, end_y), (0, 0, 255), 1)  # Red lines\n",
    "\n",
    "    # Add a circle for the SDC\n",
    "    cv2.circle(ray_img, center, 5, (0, 255, 0), -1)  # Green circle for SDC\n",
    "\n",
    "    # Flip the ray image upside down to match conventional coordinate system\n",
    "    ray_img = cv2.flip(ray_img, 0)\n",
    "\n",
    "    # Draw a reference circle at maximum range\n",
    "    max_range_radius = int(100.0 * scale_factor)  # 100 meters reference\n",
    "    cv2.circle(ray_img, center, max_range_radius, (200, 200, 200), 1)  # Gray circle\n",
    "    # Add distance markers\n",
    "    for dist in [20, 40, 60, 80]:\n",
    "        radius = int(dist * scale_factor)\n",
    "        cv2.circle(ray_img, center, radius, (220, 220, 220), 1, cv2.LINE_AA)\n",
    "        # Add text label\n",
    "        text_pos = (center[0] + 5, center[1] - radius - 5)\n",
    "        cv2.putText(ray_img, f\"{dist}m\", text_pos, cv2.FONT_HERSHEY_SIMPLEX, \n",
    "                    0.4, (100, 100, 100), 1, cv2.LINE_AA)\n",
    "\n",
    "    # Add to ray_visualization array\n",
    "    ray_visualization.append(ray_img)\n",
    "mediapy.show_video(imgs, fps=10)\n",
    "mediapy.show_video(ray_visualization, fps=10)\n",
    "\n"
   ]
  },
  {
   "cell_type": "code",
   "execution_count": null,
   "metadata": {},
   "outputs": [
    {
     "name": "stderr",
     "output_type": "stream",
     "text": [
      "I0000 00:00:1742875636.560079    5736 gpu_device.cc:2022] Created device /job:localhost/replica:0/task:0/device:GPU:0 with 512 MB memory:  -> device: 0, name: NVIDIA GeForce RTX 2060, pci bus id: 0000:29:00.0, compute capability: 7.5\n",
      "  0%|          | 0/80 [00:00<?, ?it/s]"
     ]
    },
    {
     "name": "stdout",
     "output_type": "stream",
     "text": [
      "\n",
      "******************************************************************************\n",
      "This program contains Ipopt, a library for large-scale nonlinear optimization.\n",
      " Ipopt is released as open source code under the Eclipse Public License (EPL).\n",
      "         For more information visit https://github.com/coin-or/Ipopt\n",
      "******************************************************************************\n",
      "\n",
      "      solver  :   t_proc      (avg)   t_wall      (avg)    n_eval\n",
      "       nlp_f  | 663.00us ( 17.00us) 161.98us (  4.15us)        39\n",
      "       nlp_g  |   1.35ms ( 34.72us) 302.58us (  7.76us)        39\n",
      "  nlp_grad_f  | 713.00us ( 23.00us) 154.40us (  4.98us)        31\n",
      "   nlp_jac_g  |   1.11ms ( 35.90us) 256.29us (  8.27us)        31\n",
      "       total  | 638.15ms (638.15ms) 176.84ms (176.84ms)         1\n"
     ]
    },
    {
     "name": "stderr",
     "output_type": "stream",
     "text": [
      "  4%|▍         | 3/80 [00:05<01:38,  1.28s/it]"
     ]
    },
    {
     "name": "stdout",
     "output_type": "stream",
     "text": [
      "      solver  :   t_proc      (avg)   t_wall      (avg)    n_eval\n",
      "       nlp_f  | 147.00us (  3.59us) 142.61us (  3.48us)        41\n",
      "       nlp_g  | 285.00us (  6.95us) 241.35us (  5.89us)        41\n",
      "  nlp_grad_f  | 118.00us (  3.93us) 119.40us (  3.98us)        30\n",
      "   nlp_jac_g  | 199.00us (  6.63us) 194.07us (  6.47us)        30\n",
      "       total  | 132.46ms (132.46ms) 132.58ms (132.58ms)         1\n",
      "      solver  :   t_proc      (avg)   t_wall      (avg)    n_eval\n",
      "       nlp_f  | 148.00us (  3.70us) 144.33us (  3.61us)        40\n",
      "       nlp_g  | 461.00us ( 11.53us) 269.32us (  6.73us)        40\n",
      "  nlp_grad_f  | 122.00us (  4.07us) 130.52us (  4.35us)        30\n",
      "   nlp_jac_g  | 209.00us (  6.97us) 203.42us (  6.78us)        30\n",
      "       total  | 136.79ms (136.79ms) 136.94ms (136.94ms)         1\n"
     ]
    },
    {
     "name": "stderr",
     "output_type": "stream",
     "text": [
      "  5%|▌         | 4/80 [00:05<01:05,  1.16it/s]"
     ]
    },
    {
     "name": "stdout",
     "output_type": "stream",
     "text": [
      "      solver  :   t_proc      (avg)   t_wall      (avg)    n_eval\n",
      "       nlp_f  | 179.00us (  4.26us) 173.77us (  4.14us)        42\n",
      "       nlp_g  | 579.00us ( 13.79us) 337.08us (  8.03us)        42\n",
      "  nlp_grad_f  | 138.00us (  4.60us) 139.97us (  4.67us)        30\n",
      "   nlp_jac_g  | 240.00us (  8.00us) 236.10us (  7.87us)        30\n",
      "       total  | 170.22ms (170.22ms) 173.83ms (173.83ms)         1\n"
     ]
    },
    {
     "name": "stderr",
     "output_type": "stream",
     "text": [
      "  6%|▋         | 5/80 [00:05<00:47,  1.58it/s]"
     ]
    },
    {
     "name": "stdout",
     "output_type": "stream",
     "text": [
      "      solver  :   t_proc      (avg)   t_wall      (avg)    n_eval\n",
      "       nlp_f  | 209.00us (  4.54us) 219.73us (  4.78us)        46\n",
      "       nlp_g  | 562.00us ( 12.22us) 385.31us (  8.38us)        46\n",
      "  nlp_grad_f  | 152.00us (  5.07us) 144.06us (  4.80us)        30\n",
      "   nlp_jac_g  | 241.00us (  8.03us) 238.56us (  7.95us)        30\n",
      "       total  | 169.46ms (169.46ms) 173.67ms (173.67ms)         1\n",
      "      solver  :   t_proc      (avg)   t_wall      (avg)    n_eval\n",
      "       nlp_f  | 157.00us (  3.92us) 151.98us (  3.80us)        40\n",
      "       nlp_g  | 545.00us ( 13.63us) 297.07us (  7.43us)        40\n",
      "  nlp_grad_f  | 131.00us (  4.37us) 129.53us (  4.32us)        30\n",
      "   nlp_jac_g  | 218.00us (  7.27us) 215.16us (  7.17us)        30\n",
      "       total  | 148.28ms (148.28ms) 149.62ms (149.62ms)         1\n"
     ]
    },
    {
     "name": "stderr",
     "output_type": "stream",
     "text": [
      " 10%|█         | 8/80 [00:06<00:22,  3.20it/s]"
     ]
    },
    {
     "name": "stdout",
     "output_type": "stream",
     "text": [
      "      solver  :   t_proc      (avg)   t_wall      (avg)    n_eval\n",
      "       nlp_f  | 126.00us (  3.82us) 126.90us (  3.85us)        33\n",
      "       nlp_g  | 442.00us ( 13.39us) 247.32us (  7.49us)        33\n",
      "  nlp_grad_f  | 108.00us (  4.50us) 104.90us (  4.37us)        24\n",
      "   nlp_jac_g  | 174.00us (  7.25us) 171.71us (  7.15us)        24\n",
      "       total  | 116.17ms (116.17ms) 118.91ms (118.91ms)         1\n",
      "      solver  :   t_proc      (avg)   t_wall      (avg)    n_eval\n",
      "       nlp_f  | 133.00us (  3.91us) 134.98us (  3.97us)        34\n",
      "       nlp_g  | 474.00us ( 13.94us) 262.11us (  7.71us)        34\n",
      "  nlp_grad_f  | 112.00us (  4.67us) 118.36us (  4.93us)        24\n",
      "   nlp_jac_g  | 182.00us (  7.58us) 178.32us (  7.43us)        24\n",
      "       total  | 117.13ms (117.13ms) 117.23ms (117.23ms)         1\n"
     ]
    },
    {
     "name": "stderr",
     "output_type": "stream",
     "text": [
      " 12%|█▎        | 10/80 [00:06<00:16,  4.16it/s]"
     ]
    },
    {
     "name": "stdout",
     "output_type": "stream",
     "text": [
      "      solver  :   t_proc      (avg)   t_wall      (avg)    n_eval\n",
      "       nlp_f  | 122.00us (  4.07us) 122.01us (  4.07us)        30\n",
      "       nlp_g  | 438.00us ( 14.60us) 236.40us (  7.88us)        30\n",
      "  nlp_grad_f  | 121.00us (  4.65us) 115.87us (  4.46us)        26\n",
      "   nlp_jac_g  | 196.00us (  7.54us) 195.34us (  7.51us)        26\n",
      "       total  | 127.30ms (127.30ms) 127.39ms (127.39ms)         1\n",
      "      solver  :   t_proc      (avg)   t_wall      (avg)    n_eval\n",
      "       nlp_f  | 115.00us (  3.83us) 116.74us (  3.89us)        30\n",
      "       nlp_g  | 394.00us ( 13.13us) 226.37us (  7.55us)        30\n",
      "  nlp_grad_f  | 112.00us (  4.31us) 122.24us (  4.70us)        26\n",
      "   nlp_jac_g  | 185.00us (  7.12us) 182.66us (  7.03us)        26\n",
      "       total  | 125.42ms (125.42ms) 128.12ms (128.12ms)         1\n"
     ]
    },
    {
     "name": "stderr",
     "output_type": "stream",
     "text": [
      " 15%|█▌        | 12/80 [00:07<00:14,  4.84it/s]"
     ]
    },
    {
     "name": "stdout",
     "output_type": "stream",
     "text": [
      "      solver  :   t_proc      (avg)   t_wall      (avg)    n_eval\n",
      "       nlp_f  | 131.00us (  4.23us) 125.26us (  4.04us)        31\n",
      "       nlp_g  | 493.00us ( 15.90us) 262.78us (  8.48us)        31\n",
      "  nlp_grad_f  | 123.00us (  4.73us) 122.23us (  4.70us)        26\n",
      "   nlp_jac_g  | 201.00us (  7.73us) 203.59us (  7.83us)        26\n",
      "       total  | 126.86ms (126.86ms) 126.63ms (126.63ms)         1\n",
      "      solver  :   t_proc      (avg)   t_wall      (avg)    n_eval\n",
      "       nlp_f  | 125.00us (  4.03us) 122.81us (  3.96us)        31\n",
      "       nlp_g  | 472.00us ( 15.23us) 252.43us (  8.14us)        31\n",
      "  nlp_grad_f  | 136.00us (  5.23us) 134.12us (  5.16us)        26\n",
      "   nlp_jac_g  | 197.00us (  7.58us) 196.12us (  7.54us)        26\n",
      "       total  | 127.87ms (127.87ms) 128.10ms (128.10ms)         1\n"
     ]
    },
    {
     "name": "stderr",
     "output_type": "stream",
     "text": [
      " 18%|█▊        | 14/80 [00:07<00:12,  5.28it/s]"
     ]
    },
    {
     "name": "stdout",
     "output_type": "stream",
     "text": [
      "      solver  :   t_proc      (avg)   t_wall      (avg)    n_eval\n",
      "       nlp_f  | 126.00us (  4.34us) 121.36us (  4.18us)        29\n",
      "       nlp_g  | 481.00us ( 16.59us) 266.94us (  9.20us)        29\n",
      "  nlp_grad_f  | 124.00us (  4.77us) 118.00us (  4.54us)        26\n",
      "   nlp_jac_g  | 193.00us (  7.42us) 192.24us (  7.39us)        26\n",
      "       total  | 127.13ms (127.13ms) 127.15ms (127.15ms)         1\n",
      "      solver  :   t_proc      (avg)   t_wall      (avg)    n_eval\n",
      "       nlp_f  | 129.00us (  4.30us) 129.49us (  4.32us)        30\n",
      "       nlp_g  | 504.00us ( 16.80us) 256.26us (  8.54us)        30\n",
      "  nlp_grad_f  | 123.00us (  4.73us) 127.97us (  4.92us)        26\n",
      "   nlp_jac_g  | 206.00us (  7.92us) 203.81us (  7.84us)        26\n",
      "       total  | 128.17ms (128.17ms) 128.39ms (128.39ms)         1\n"
     ]
    },
    {
     "name": "stderr",
     "output_type": "stream",
     "text": [
      " 20%|██        | 16/80 [00:07<00:11,  5.62it/s]"
     ]
    },
    {
     "name": "stdout",
     "output_type": "stream",
     "text": [
      "      solver  :   t_proc      (avg)   t_wall      (avg)    n_eval\n",
      "       nlp_f  | 153.00us (  5.10us) 143.21us (  4.77us)        30\n",
      "       nlp_g  | 524.00us ( 17.47us) 281.48us (  9.38us)        30\n",
      "  nlp_grad_f  | 124.00us (  4.77us) 124.18us (  4.78us)        26\n",
      "   nlp_jac_g  | 235.00us (  9.04us) 212.89us (  8.19us)        26\n",
      "       total  | 126.65ms (126.65ms) 127.04ms (127.04ms)         1\n",
      "      solver  :   t_proc      (avg)   t_wall      (avg)    n_eval\n",
      "       nlp_f  | 107.00us (  3.82us) 105.85us (  3.78us)        28\n",
      "       nlp_g  | 324.00us ( 11.57us) 205.18us (  7.33us)        28\n",
      "  nlp_grad_f  |  99.00us (  4.13us)  99.51us (  4.15us)        24\n",
      "   nlp_jac_g  | 165.00us (  6.88us) 162.03us (  6.75us)        24\n",
      "       total  | 108.69ms (108.69ms) 108.59ms (108.59ms)         1\n"
     ]
    },
    {
     "name": "stderr",
     "output_type": "stream",
     "text": [
      " 22%|██▎       | 18/80 [00:08<00:11,  5.42it/s]"
     ]
    },
    {
     "name": "stdout",
     "output_type": "stream",
     "text": [
      "      solver  :   t_proc      (avg)   t_wall      (avg)    n_eval\n",
      "       nlp_f  | 133.00us (  4.59us) 128.68us (  4.44us)        29\n",
      "       nlp_g  | 531.00us ( 18.31us) 294.22us ( 10.15us)        29\n",
      "  nlp_grad_f  | 114.00us (  4.75us) 115.36us (  4.81us)        24\n",
      "   nlp_jac_g  | 193.00us (  8.04us) 192.52us (  8.02us)        24\n",
      "       total  | 132.21ms (132.21ms) 133.65ms (133.65ms)         1\n",
      "      solver  :   t_proc      (avg)   t_wall      (avg)    n_eval\n",
      "       nlp_f  | 119.00us (  4.58us) 114.15us (  4.39us)        26\n",
      "       nlp_g  | 454.00us ( 17.46us) 240.05us (  9.23us)        26\n",
      "  nlp_grad_f  | 119.00us (  4.96us) 117.47us (  4.89us)        24\n",
      "   nlp_jac_g  | 199.00us (  8.29us) 200.74us (  8.36us)        24\n",
      "       total  | 132.54ms (132.54ms) 135.93ms (135.93ms)         1\n"
     ]
    },
    {
     "name": "stderr",
     "output_type": "stream",
     "text": [
      " 25%|██▌       | 20/80 [00:08<00:10,  5.85it/s]"
     ]
    },
    {
     "name": "stdout",
     "output_type": "stream",
     "text": [
      "      solver  :   t_proc      (avg)   t_wall      (avg)    n_eval\n",
      "       nlp_f  | 123.00us (  3.84us) 124.04us (  3.88us)        32\n",
      "       nlp_g  | 360.00us ( 11.25us) 229.85us (  7.18us)        32\n",
      "  nlp_grad_f  | 108.00us (  4.50us) 107.11us (  4.46us)        24\n",
      "   nlp_jac_g  | 181.00us (  7.54us) 185.14us (  7.71us)        24\n",
      "       total  | 115.14ms (115.14ms) 115.24ms (115.24ms)         1\n",
      "      solver  :   t_proc      (avg)   t_wall      (avg)    n_eval\n",
      "       nlp_f  | 123.00us (  3.97us) 118.45us (  3.82us)        31\n",
      "       nlp_g  | 324.00us ( 10.45us) 205.44us (  6.63us)        31\n",
      "  nlp_grad_f  | 102.00us (  4.25us) 100.86us (  4.20us)        24\n",
      "   nlp_jac_g  | 165.00us (  6.88us) 178.93us (  7.46us)        24\n",
      "       total  | 110.56ms (110.56ms) 110.33ms (110.33ms)         1\n"
     ]
    },
    {
     "name": "stderr",
     "output_type": "stream",
     "text": [
      " 26%|██▋       | 21/80 [00:08<00:10,  5.75it/s]"
     ]
    },
    {
     "name": "stdout",
     "output_type": "stream",
     "text": [
      "      solver  :   t_proc      (avg)   t_wall      (avg)    n_eval\n",
      "       nlp_f  | 173.00us (  4.33us) 166.87us (  4.17us)        40\n",
      "       nlp_g  | 456.00us ( 11.40us) 293.36us (  7.33us)        40\n",
      "  nlp_grad_f  | 120.00us (  5.00us) 125.89us (  5.25us)        24\n",
      "   nlp_jac_g  | 199.00us (  8.29us) 197.08us (  8.21us)        24\n",
      "       total  | 134.62ms (134.62ms) 136.56ms (136.56ms)         1\n",
      "      solver  :   t_proc      (avg)   t_wall      (avg)    n_eval\n",
      "       nlp_f  | 139.00us (  4.09us) 134.92us (  3.97us)        34\n",
      "       nlp_g  | 434.00us ( 12.76us) 266.75us (  7.85us)        34\n",
      "  nlp_grad_f  | 152.00us (  4.90us) 137.25us (  4.43us)        31\n",
      "   nlp_jac_g  | 238.00us (  7.68us) 234.60us (  7.57us)        31\n",
      "       total  | 151.52ms (151.52ms) 151.80ms (151.80ms)         1\n"
     ]
    },
    {
     "name": "stderr",
     "output_type": "stream",
     "text": [
      " 30%|███       | 24/80 [00:09<00:09,  5.94it/s]"
     ]
    },
    {
     "name": "stdout",
     "output_type": "stream",
     "text": [
      "      solver  :   t_proc      (avg)   t_wall      (avg)    n_eval\n",
      "       nlp_f  | 118.00us (  4.07us) 113.36us (  3.91us)        29\n",
      "       nlp_g  | 355.00us ( 12.24us) 208.79us (  7.20us)        29\n",
      "  nlp_grad_f  | 105.00us (  4.38us) 104.77us (  4.37us)        24\n",
      "   nlp_jac_g  | 174.00us (  7.25us) 173.78us (  7.24us)        24\n",
      "       total  | 112.93ms (112.93ms) 113.14ms (113.14ms)         1\n",
      "      solver  :   t_proc      (avg)   t_wall      (avg)    n_eval\n",
      "       nlp_f  | 102.00us (  3.78us) 102.06us (  3.78us)        27\n",
      "       nlp_g  | 373.00us ( 13.81us) 202.72us (  7.51us)        27\n",
      "  nlp_grad_f  | 103.00us (  4.29us) 101.50us (  4.23us)        24\n",
      "   nlp_jac_g  | 175.00us (  7.29us) 172.85us (  7.20us)        24\n",
      "       total  | 108.83ms (108.83ms) 108.74ms (108.74ms)         1\n"
     ]
    },
    {
     "name": "stderr",
     "output_type": "stream",
     "text": [
      " 32%|███▎      | 26/80 [00:09<00:08,  6.00it/s]"
     ]
    },
    {
     "name": "stdout",
     "output_type": "stream",
     "text": [
      "      solver  :   t_proc      (avg)   t_wall      (avg)    n_eval\n",
      "       nlp_f  | 134.00us (  3.72us) 133.67us (  3.71us)        36\n",
      "       nlp_g  | 560.00us ( 15.56us) 283.24us (  7.87us)        36\n",
      "  nlp_grad_f  | 135.00us (  4.35us) 129.70us (  4.18us)        31\n",
      "   nlp_jac_g  | 216.00us (  6.97us) 216.57us (  6.99us)        31\n",
      "       total  | 147.10ms (147.10ms) 146.79ms (146.79ms)         1\n",
      "      solver  :   t_proc      (avg)   t_wall      (avg)    n_eval\n",
      "       nlp_f  | 107.00us (  3.82us) 102.53us (  3.66us)        28\n",
      "       nlp_g  | 294.00us ( 10.50us) 189.29us (  6.76us)        28\n",
      "  nlp_grad_f  |  97.00us (  4.04us) 100.42us (  4.18us)        24\n",
      "   nlp_jac_g  | 158.00us (  6.58us) 157.30us (  6.55us)        24\n",
      "       total  | 104.35ms (104.35ms) 104.38ms (104.38ms)         1\n"
     ]
    },
    {
     "name": "stderr",
     "output_type": "stream",
     "text": [
      " 35%|███▌      | 28/80 [00:09<00:08,  5.87it/s]"
     ]
    },
    {
     "name": "stdout",
     "output_type": "stream",
     "text": [
      "      solver  :   t_proc      (avg)   t_wall      (avg)    n_eval\n",
      "       nlp_f  | 121.00us (  4.32us) 103.31us (  3.69us)        28\n",
      "       nlp_g  | 391.00us ( 13.96us) 210.86us (  7.53us)        28\n",
      "  nlp_grad_f  | 100.00us (  4.17us)  99.24us (  4.14us)        24\n",
      "   nlp_jac_g  | 167.00us (  6.96us) 163.75us (  6.82us)        24\n",
      "       total  | 106.96ms (106.96ms) 106.98ms (106.98ms)         1\n",
      "      solver  :   t_proc      (avg)   t_wall      (avg)    n_eval\n",
      "       nlp_f  | 164.00us (  3.81us) 156.46us (  3.64us)        43\n",
      "       nlp_g  | 556.00us ( 12.93us) 313.38us (  7.29us)        43\n",
      "  nlp_grad_f  | 131.00us (  4.23us) 130.09us (  4.20us)        31\n",
      "   nlp_jac_g  | 218.00us (  7.03us) 211.93us (  6.84us)        31\n",
      "       total  | 147.11ms (147.11ms) 147.37ms (147.37ms)         1\n"
     ]
    },
    {
     "name": "stderr",
     "output_type": "stream",
     "text": [
      " 38%|███▊      | 30/80 [00:10<00:08,  6.12it/s]"
     ]
    },
    {
     "name": "stdout",
     "output_type": "stream",
     "text": [
      "      solver  :   t_proc      (avg)   t_wall      (avg)    n_eval\n",
      "       nlp_f  | 116.00us (  4.46us) 100.18us (  3.85us)        26\n",
      "       nlp_g  | 373.00us ( 14.35us) 201.54us (  7.75us)        26\n",
      "  nlp_grad_f  | 107.00us (  4.46us) 105.47us (  4.39us)        24\n",
      "   nlp_jac_g  | 167.00us (  6.96us) 165.96us (  6.92us)        24\n",
      "       total  | 105.97ms (105.97ms) 106.01ms (106.01ms)         1\n",
      "      solver  :   t_proc      (avg)   t_wall      (avg)    n_eval\n",
      "       nlp_f  | 107.00us (  3.57us) 108.64us (  3.62us)        30\n",
      "       nlp_g  | 310.00us ( 10.33us) 200.62us (  6.69us)        30\n",
      "  nlp_grad_f  | 112.00us (  4.15us) 111.98us (  4.15us)        27\n",
      "   nlp_jac_g  | 178.00us (  6.59us) 178.45us (  6.61us)        27\n",
      "       total  | 118.91ms (118.91ms) 118.58ms (118.58ms)         1\n"
     ]
    },
    {
     "name": "stderr",
     "output_type": "stream",
     "text": [
      " 40%|████      | 32/80 [00:10<00:07,  6.00it/s]"
     ]
    },
    {
     "name": "stdout",
     "output_type": "stream",
     "text": [
      "      solver  :   t_proc      (avg)   t_wall      (avg)    n_eval\n",
      "       nlp_f  | 154.00us (  4.16us) 139.37us (  3.77us)        37\n",
      "       nlp_g  | 421.00us ( 11.38us) 254.88us (  6.89us)        37\n",
      "  nlp_grad_f  | 115.00us (  4.26us) 115.08us (  4.26us)        27\n",
      "   nlp_jac_g  | 218.00us (  8.07us) 191.39us (  7.09us)        27\n",
      "       total  | 123.30ms (123.30ms) 123.06ms (123.06ms)         1\n",
      "      solver  :   t_proc      (avg)   t_wall      (avg)    n_eval\n",
      "       nlp_f  | 131.00us (  3.85us) 126.56us (  3.72us)        34\n",
      "       nlp_g  | 462.00us ( 13.59us) 255.03us (  7.50us)        34\n",
      "  nlp_grad_f  | 118.00us (  4.37us) 115.74us (  4.29us)        27\n",
      "   nlp_jac_g  | 184.00us (  6.81us) 182.75us (  6.77us)        27\n",
      "       total  | 122.04ms (122.04ms) 122.03ms (122.03ms)         1\n"
     ]
    },
    {
     "name": "stderr",
     "output_type": "stream",
     "text": [
      " 42%|████▎     | 34/80 [00:10<00:07,  6.05it/s]"
     ]
    },
    {
     "name": "stdout",
     "output_type": "stream",
     "text": [
      "      solver  :   t_proc      (avg)   t_wall      (avg)    n_eval\n",
      "       nlp_f  | 114.00us (  3.68us) 113.44us (  3.66us)        31\n",
      "       nlp_g  | 380.00us ( 12.26us) 229.44us (  7.40us)        31\n",
      "  nlp_grad_f  | 128.00us (  4.74us) 126.87us (  4.70us)        27\n",
      "   nlp_jac_g  | 191.00us (  7.07us) 188.93us (  7.00us)        27\n",
      "       total  | 121.99ms (121.99ms) 121.96ms (121.96ms)         1\n",
      "      solver  :   t_proc      (avg)   t_wall      (avg)    n_eval\n",
      "       nlp_f  | 113.00us (  3.77us) 110.73us (  3.69us)        30\n",
      "       nlp_g  | 349.00us ( 11.63us) 205.10us (  6.84us)        30\n",
      "  nlp_grad_f  | 114.00us (  4.22us) 112.10us (  4.15us)        27\n",
      "   nlp_jac_g  | 188.00us (  6.96us) 189.01us (  7.00us)        27\n",
      "       total  | 118.74ms (118.74ms) 118.79ms (118.79ms)         1\n"
     ]
    },
    {
     "name": "stderr",
     "output_type": "stream",
     "text": [
      " 45%|████▌     | 36/80 [00:11<00:07,  5.99it/s]"
     ]
    },
    {
     "name": "stdout",
     "output_type": "stream",
     "text": [
      "      solver  :   t_proc      (avg)   t_wall      (avg)    n_eval\n",
      "       nlp_f  | 107.00us (  4.12us) 105.12us (  4.04us)        26\n",
      "       nlp_g  | 226.00us (  8.69us) 179.98us (  6.92us)        26\n",
      "  nlp_grad_f  | 111.00us (  4.83us) 115.45us (  5.02us)        23\n",
      "   nlp_jac_g  | 179.00us (  7.78us) 175.26us (  7.62us)        23\n",
      "       total  | 116.61ms (116.61ms) 117.32ms (117.32ms)         1\n",
      "      solver  :   t_proc      (avg)   t_wall      (avg)    n_eval\n",
      "       nlp_f  | 118.00us (  4.72us) 103.44us (  4.14us)        25\n",
      "       nlp_g  | 404.00us ( 16.16us) 213.44us (  8.54us)        25\n",
      "  nlp_grad_f  | 107.00us (  4.65us) 104.65us (  4.55us)        23\n",
      "   nlp_jac_g  | 175.00us (  7.61us) 174.14us (  7.57us)        23\n",
      "       total  | 112.53ms (112.53ms) 113.16ms (113.16ms)         1\n"
     ]
    },
    {
     "name": "stderr",
     "output_type": "stream",
     "text": [
      " 48%|████▊     | 38/80 [00:11<00:06,  6.24it/s]"
     ]
    },
    {
     "name": "stdout",
     "output_type": "stream",
     "text": [
      "      solver  :   t_proc      (avg)   t_wall      (avg)    n_eval\n",
      "       nlp_f  | 108.00us (  4.32us) 107.52us (  4.30us)        25\n",
      "       nlp_g  | 672.00us ( 26.88us) 276.92us ( 11.08us)        25\n",
      "  nlp_grad_f  | 114.00us (  4.96us) 110.19us (  4.79us)        23\n",
      "   nlp_jac_g  | 185.00us (  8.04us) 181.62us (  7.90us)        23\n",
      "       total  | 117.60ms (117.60ms) 117.24ms (117.24ms)         1\n",
      "      solver  :   t_proc      (avg)   t_wall      (avg)    n_eval\n",
      "       nlp_f  |  99.00us (  3.96us)  94.14us (  3.77us)        25\n",
      "       nlp_g  | 374.00us ( 14.96us) 196.68us (  7.87us)        25\n",
      "  nlp_grad_f  |  97.00us (  4.22us)  98.54us (  4.28us)        23\n",
      "   nlp_jac_g  | 157.00us (  6.83us) 154.38us (  6.71us)        23\n",
      "       total  | 100.95ms (100.95ms) 100.90ms (100.90ms)         1\n"
     ]
    },
    {
     "name": "stderr",
     "output_type": "stream",
     "text": [
      " 50%|█████     | 40/80 [00:11<00:06,  6.43it/s]"
     ]
    },
    {
     "name": "stdout",
     "output_type": "stream",
     "text": [
      "      solver  :   t_proc      (avg)   t_wall      (avg)    n_eval\n",
      "       nlp_f  | 116.00us (  4.83us) 113.26us (  4.72us)        24\n",
      "       nlp_g  | 395.00us ( 16.46us) 202.42us (  8.43us)        24\n",
      "  nlp_grad_f  | 110.00us (  4.78us) 105.01us (  4.57us)        23\n",
      "   nlp_jac_g  | 186.00us (  8.09us) 175.32us (  7.62us)        23\n",
      "       total  | 117.43ms (117.43ms) 117.60ms (117.60ms)         1\n",
      "      solver  :   t_proc      (avg)   t_wall      (avg)    n_eval\n",
      "       nlp_f  |  98.00us (  3.92us)  88.80us (  3.55us)        25\n",
      "       nlp_g  | 211.00us (  8.44us) 154.61us (  6.18us)        25\n",
      "  nlp_grad_f  |  92.00us (  4.00us)  91.09us (  3.96us)        23\n",
      "   nlp_jac_g  | 144.00us (  6.26us) 146.00us (  6.35us)        23\n",
      "       total  |  95.74ms ( 95.74ms)  95.69ms ( 95.69ms)         1\n"
     ]
    },
    {
     "name": "stderr",
     "output_type": "stream",
     "text": [
      " 52%|█████▎    | 42/80 [00:12<00:05,  6.40it/s]"
     ]
    },
    {
     "name": "stdout",
     "output_type": "stream",
     "text": [
      "      solver  :   t_proc      (avg)   t_wall      (avg)    n_eval\n",
      "       nlp_f  | 141.00us (  4.86us) 129.26us (  4.46us)        29\n",
      "       nlp_g  | 438.00us ( 15.10us) 236.83us (  8.17us)        29\n",
      "  nlp_grad_f  | 107.00us (  4.65us) 105.82us (  4.60us)        23\n",
      "   nlp_jac_g  | 173.00us (  7.52us) 170.47us (  7.41us)        23\n",
      "       total  | 112.85ms (112.85ms) 113.23ms (113.23ms)         1\n",
      "      solver  :   t_proc      (avg)   t_wall      (avg)    n_eval\n",
      "       nlp_f  | 101.00us (  4.04us) 103.26us (  4.13us)        25\n",
      "       nlp_g  | 428.00us ( 17.12us) 228.77us (  9.15us)        25\n",
      "  nlp_grad_f  | 116.00us (  5.04us) 101.35us (  4.41us)        23\n",
      "   nlp_jac_g  | 160.00us (  6.96us) 158.38us (  6.89us)        23\n",
      "       total  | 101.78ms (101.78ms) 101.46ms (101.46ms)         1\n"
     ]
    },
    {
     "name": "stderr",
     "output_type": "stream",
     "text": [
      " 55%|█████▌    | 44/80 [00:12<00:06,  5.95it/s]"
     ]
    },
    {
     "name": "stdout",
     "output_type": "stream",
     "text": [
      "      solver  :   t_proc      (avg)   t_wall      (avg)    n_eval\n",
      "       nlp_f  | 130.00us (  4.33us) 130.13us (  4.34us)        30\n",
      "       nlp_g  | 665.00us ( 22.17us) 306.47us ( 10.22us)        30\n",
      "  nlp_grad_f  | 112.00us (  4.87us) 107.15us (  4.66us)        23\n",
      "   nlp_jac_g  | 187.00us (  8.13us) 183.80us (  7.99us)        23\n",
      "       total  | 128.78ms (128.78ms) 130.30ms (130.30ms)         1\n",
      "      solver  :   t_proc      (avg)   t_wall      (avg)    n_eval\n",
      "       nlp_f  | 120.00us (  4.44us) 112.04us (  4.15us)        27\n",
      "       nlp_g  | 594.00us ( 22.00us) 256.43us (  9.50us)        27\n",
      "  nlp_grad_f  | 118.00us (  5.13us) 111.63us (  4.85us)        23\n",
      "   nlp_jac_g  | 183.00us (  7.96us) 180.56us (  7.85us)        23\n",
      "       total  | 114.86ms (114.86ms) 115.17ms (115.17ms)         1\n"
     ]
    },
    {
     "name": "stderr",
     "output_type": "stream",
     "text": [
      " 57%|█████▊    | 46/80 [00:12<00:05,  5.71it/s]"
     ]
    },
    {
     "name": "stdout",
     "output_type": "stream",
     "text": [
      "      solver  :   t_proc      (avg)   t_wall      (avg)    n_eval\n",
      "       nlp_f  | 161.00us (  5.03us) 132.59us (  4.14us)        32\n",
      "       nlp_g  | 587.00us ( 18.34us) 282.92us (  8.84us)        32\n",
      "  nlp_grad_f  | 109.00us (  4.54us) 130.31us (  5.43us)        24\n",
      "   nlp_jac_g  | 188.00us (  7.83us) 183.32us (  7.64us)        24\n",
      "       total  | 120.80ms (120.80ms) 120.86ms (120.86ms)         1\n",
      "      solver  :   t_proc      (avg)   t_wall      (avg)    n_eval\n",
      "       nlp_f  | 136.00us (  4.53us) 168.86us (  5.63us)        30\n",
      "       nlp_g  | 602.00us ( 20.07us) 300.09us ( 10.00us)        30\n",
      "  nlp_grad_f  | 120.00us (  5.00us) 120.18us (  5.01us)        24\n",
      "   nlp_jac_g  | 198.00us (  8.25us) 197.98us (  8.25us)        24\n",
      "       total  | 125.18ms (125.18ms) 126.32ms (126.32ms)         1\n"
     ]
    },
    {
     "name": "stderr",
     "output_type": "stream",
     "text": [
      " 60%|██████    | 48/80 [00:13<00:05,  5.91it/s]"
     ]
    },
    {
     "name": "stdout",
     "output_type": "stream",
     "text": [
      "      solver  :   t_proc      (avg)   t_wall      (avg)    n_eval\n",
      "       nlp_f  | 118.00us (  4.21us) 112.74us (  4.03us)        28\n",
      "       nlp_g  | 582.00us ( 20.79us) 256.90us (  9.18us)        28\n",
      "  nlp_grad_f  | 109.00us (  4.54us) 105.97us (  4.42us)        24\n",
      "   nlp_jac_g  | 174.00us (  7.25us) 172.07us (  7.17us)        24\n",
      "       total  | 110.55ms (110.55ms) 110.64ms (110.64ms)         1\n",
      "      solver  :   t_proc      (avg)   t_wall      (avg)    n_eval\n",
      "       nlp_f  | 105.00us (  3.75us) 103.30us (  3.69us)        28\n",
      "       nlp_g  | 482.00us ( 17.21us) 222.37us (  7.94us)        28\n",
      "  nlp_grad_f  | 107.00us (  4.46us) 102.58us (  4.27us)        24\n",
      "   nlp_jac_g  | 166.00us (  6.92us) 168.10us (  7.00us)        24\n",
      "       total  | 108.52ms (108.52ms) 110.45ms (110.45ms)         1\n"
     ]
    },
    {
     "name": "stderr",
     "output_type": "stream",
     "text": [
      " 62%|██████▎   | 50/80 [00:13<00:05,  5.99it/s]"
     ]
    },
    {
     "name": "stdout",
     "output_type": "stream",
     "text": [
      "      solver  :   t_proc      (avg)   t_wall      (avg)    n_eval\n",
      "       nlp_f  | 101.00us (  4.04us)  99.25us (  3.97us)        25\n",
      "       nlp_g  | 464.00us ( 18.56us) 217.96us (  8.72us)        25\n",
      "  nlp_grad_f  | 108.00us (  4.50us) 104.11us (  4.34us)        24\n",
      "   nlp_jac_g  | 189.00us (  7.88us) 170.43us (  7.10us)        24\n",
      "       total  | 111.85ms (111.85ms) 112.03ms (112.03ms)         1\n",
      "      solver  :   t_proc      (avg)   t_wall      (avg)    n_eval\n",
      "       nlp_f  | 112.00us (  4.31us) 105.89us (  4.07us)        26\n",
      "       nlp_g  | 554.00us ( 21.31us) 249.32us (  9.59us)        26\n",
      "  nlp_grad_f  | 114.00us (  4.75us) 114.02us (  4.75us)        24\n",
      "   nlp_jac_g  | 185.00us (  7.71us) 185.12us (  7.71us)        24\n",
      "       total  | 115.51ms (115.51ms) 115.75ms (115.75ms)         1\n"
     ]
    },
    {
     "name": "stderr",
     "output_type": "stream",
     "text": [
      " 65%|██████▌   | 52/80 [00:13<00:04,  6.16it/s]"
     ]
    },
    {
     "name": "stdout",
     "output_type": "stream",
     "text": [
      "      solver  :   t_proc      (avg)   t_wall      (avg)    n_eval\n",
      "       nlp_f  |  98.00us (  3.92us)  98.04us (  3.92us)        25\n",
      "       nlp_g  | 439.00us ( 17.56us) 212.99us (  8.52us)        25\n",
      "  nlp_grad_f  | 106.00us (  4.42us) 105.47us (  4.39us)        24\n",
      "   nlp_jac_g  | 172.00us (  7.17us) 168.27us (  7.01us)        24\n",
      "       total  | 112.20ms (112.20ms) 112.40ms (112.40ms)         1\n",
      "      solver  :   t_proc      (avg)   t_wall      (avg)    n_eval\n",
      "       nlp_f  | 108.00us (  4.15us) 101.95us (  3.92us)        26\n",
      "       nlp_g  | 448.00us ( 17.23us) 218.06us (  8.39us)        26\n",
      "  nlp_grad_f  | 106.00us (  4.42us) 107.02us (  4.46us)        24\n",
      "   nlp_jac_g  | 176.00us (  7.33us) 171.05us (  7.13us)        24\n",
      "       total  | 107.94ms (107.94ms) 107.89ms (107.89ms)         1\n"
     ]
    },
    {
     "name": "stderr",
     "output_type": "stream",
     "text": [
      " 68%|██████▊   | 54/80 [00:14<00:04,  6.26it/s]"
     ]
    },
    {
     "name": "stdout",
     "output_type": "stream",
     "text": [
      "      solver  :   t_proc      (avg)   t_wall      (avg)    n_eval\n",
      "       nlp_f  |  96.00us (  4.00us)  92.76us (  3.87us)        24\n",
      "       nlp_g  | 502.00us ( 20.92us) 225.49us (  9.40us)        24\n",
      "  nlp_grad_f  | 107.00us (  4.46us) 105.61us (  4.40us)        24\n",
      "   nlp_jac_g  | 172.00us (  7.17us) 167.56us (  6.98us)        24\n",
      "       total  | 111.08ms (111.08ms) 110.80ms (110.80ms)         1\n",
      "      solver  :   t_proc      (avg)   t_wall      (avg)    n_eval\n",
      "       nlp_f  | 110.00us (  4.23us) 105.53us (  4.06us)        26\n",
      "       nlp_g  | 544.00us ( 20.92us) 249.78us (  9.61us)        26\n",
      "  nlp_grad_f  | 121.00us (  5.04us) 107.90us (  4.50us)        24\n",
      "   nlp_jac_g  | 169.00us (  7.04us) 169.86us (  7.08us)        24\n",
      "       total  | 110.29ms (110.29ms) 110.17ms (110.17ms)         1\n"
     ]
    },
    {
     "name": "stderr",
     "output_type": "stream",
     "text": [
      " 70%|███████   | 56/80 [00:14<00:03,  6.37it/s]"
     ]
    },
    {
     "name": "stdout",
     "output_type": "stream",
     "text": [
      "      solver  :   t_proc      (avg)   t_wall      (avg)    n_eval\n",
      "       nlp_f  | 128.00us (  4.92us) 109.37us (  4.21us)        26\n",
      "       nlp_g  | 481.00us ( 18.50us) 231.46us (  8.90us)        26\n",
      "  nlp_grad_f  | 111.00us (  4.63us) 109.54us (  4.56us)        24\n",
      "   nlp_jac_g  | 190.00us (  7.92us) 173.25us (  7.22us)        24\n",
      "       total  | 115.07ms (115.07ms) 115.02ms (115.02ms)         1\n",
      "      solver  :   t_proc      (avg)   t_wall      (avg)    n_eval\n",
      "       nlp_f  |  89.00us (  3.71us)  87.60us (  3.65us)        24\n",
      "       nlp_g  | 269.00us ( 11.21us) 161.80us (  6.74us)        24\n",
      "  nlp_grad_f  |  98.00us (  4.08us)  97.92us (  4.08us)        24\n",
      "   nlp_jac_g  | 157.00us (  6.54us) 155.67us (  6.49us)        24\n",
      "       total  | 102.51ms (102.51ms) 102.28ms (102.28ms)         1\n"
     ]
    },
    {
     "name": "stderr",
     "output_type": "stream",
     "text": [
      " 72%|███████▎  | 58/80 [00:14<00:03,  6.50it/s]"
     ]
    },
    {
     "name": "stdout",
     "output_type": "stream",
     "text": [
      "      solver  :   t_proc      (avg)   t_wall      (avg)    n_eval\n",
      "       nlp_f  |  95.00us (  3.80us)  89.30us (  3.57us)        25\n",
      "       nlp_g  | 238.00us (  9.52us) 161.23us (  6.45us)        25\n",
      "  nlp_grad_f  |  96.00us (  4.00us)  95.78us (  3.99us)        24\n",
      "   nlp_jac_g  | 152.00us (  6.33us) 152.05us (  6.34us)        24\n",
      "       total  | 100.38ms (100.38ms) 100.38ms (100.38ms)         1\n",
      "      solver  :   t_proc      (avg)   t_wall      (avg)    n_eval\n",
      "       nlp_f  |  97.00us (  4.04us)  91.77us (  3.82us)        24\n",
      "       nlp_g  | 435.00us ( 18.12us) 201.26us (  8.39us)        24\n",
      "  nlp_grad_f  | 101.00us (  4.21us) 100.27us (  4.18us)        24\n",
      "   nlp_jac_g  | 158.00us (  6.58us) 158.91us (  6.62us)        24\n",
      "       total  | 107.12ms (107.12ms) 107.09ms (107.09ms)         1\n"
     ]
    },
    {
     "name": "stderr",
     "output_type": "stream",
     "text": [
      " 75%|███████▌  | 60/80 [00:15<00:03,  6.36it/s]"
     ]
    },
    {
     "name": "stdout",
     "output_type": "stream",
     "text": [
      "      solver  :   t_proc      (avg)   t_wall      (avg)    n_eval\n",
      "       nlp_f  | 101.00us (  3.74us) 102.07us (  3.78us)        27\n",
      "       nlp_g  | 351.00us ( 13.00us) 196.84us (  7.29us)        27\n",
      "  nlp_grad_f  | 106.00us (  4.42us) 102.97us (  4.29us)        24\n",
      "   nlp_jac_g  | 168.00us (  7.00us) 164.02us (  6.83us)        24\n",
      "       total  | 115.15ms (115.15ms) 115.17ms (115.17ms)         1\n",
      "      solver  :   t_proc      (avg)   t_wall      (avg)    n_eval\n",
      "       nlp_f  | 104.00us (  3.71us) 102.10us (  3.65us)        28\n",
      "       nlp_g  | 275.00us (  9.82us) 186.10us (  6.65us)        28\n",
      "  nlp_grad_f  | 100.00us (  4.17us)  99.04us (  4.13us)        24\n",
      "   nlp_jac_g  | 163.00us (  6.79us) 159.64us (  6.65us)        24\n",
      "       total  | 110.32ms (110.32ms) 110.20ms (110.20ms)         1\n"
     ]
    },
    {
     "name": "stderr",
     "output_type": "stream",
     "text": [
      " 78%|███████▊  | 62/80 [00:15<00:02,  6.48it/s]"
     ]
    },
    {
     "name": "stdout",
     "output_type": "stream",
     "text": [
      "      solver  :   t_proc      (avg)   t_wall      (avg)    n_eval\n",
      "       nlp_f  |  97.00us (  3.59us)  94.88us (  3.51us)        27\n",
      "       nlp_g  | 232.00us (  8.59us) 167.48us (  6.20us)        27\n",
      "  nlp_grad_f  |  97.00us (  4.04us)  96.18us (  4.01us)        24\n",
      "   nlp_jac_g  | 150.00us (  6.25us) 148.72us (  6.20us)        24\n",
      "       total  | 102.70ms (102.70ms) 102.59ms (102.59ms)         1\n",
      "      solver  :   t_proc      (avg)   t_wall      (avg)    n_eval\n",
      "       nlp_f  | 110.00us (  3.79us) 106.90us (  3.69us)        29\n",
      "       nlp_g  | 379.00us ( 13.07us) 206.18us (  7.11us)        29\n",
      "  nlp_grad_f  | 103.00us (  4.29us)  99.76us (  4.16us)        24\n",
      "   nlp_jac_g  | 160.00us (  6.67us) 158.87us (  6.62us)        24\n",
      "       total  | 105.05ms (105.05ms) 105.15ms (105.15ms)         1\n"
     ]
    },
    {
     "name": "stderr",
     "output_type": "stream",
     "text": [
      " 80%|████████  | 64/80 [00:15<00:02,  6.51it/s]"
     ]
    },
    {
     "name": "stdout",
     "output_type": "stream",
     "text": [
      "      solver  :   t_proc      (avg)   t_wall      (avg)    n_eval\n",
      "       nlp_f  | 101.00us (  3.88us) 100.63us (  3.87us)        26\n",
      "       nlp_g  | 340.00us ( 13.08us) 191.03us (  7.35us)        26\n",
      "  nlp_grad_f  | 107.00us (  4.46us) 104.04us (  4.33us)        24\n",
      "   nlp_jac_g  | 166.00us (  6.92us) 163.74us (  6.82us)        24\n",
      "       total  | 108.38ms (108.38ms) 108.37ms (108.37ms)         1\n",
      "      solver  :   t_proc      (avg)   t_wall      (avg)    n_eval\n",
      "       nlp_f  |  97.00us (  3.73us)  95.58us (  3.68us)        26\n",
      "       nlp_g  | 329.00us ( 12.65us) 179.73us (  6.91us)        26\n",
      "  nlp_grad_f  | 101.00us (  4.21us) 100.19us (  4.17us)        24\n",
      "   nlp_jac_g  | 161.00us (  6.71us) 156.48us (  6.52us)        24\n",
      "       total  | 107.22ms (107.22ms) 106.93ms (106.93ms)         1\n"
     ]
    },
    {
     "name": "stderr",
     "output_type": "stream",
     "text": [
      " 82%|████████▎ | 66/80 [00:16<00:02,  6.03it/s]"
     ]
    },
    {
     "name": "stdout",
     "output_type": "stream",
     "text": [
      "      solver  :   t_proc      (avg)   t_wall      (avg)    n_eval\n",
      "       nlp_f  | 115.00us (  4.42us) 108.73us (  4.18us)        26\n",
      "       nlp_g  | 436.00us ( 16.77us) 226.97us (  8.73us)        26\n",
      "  nlp_grad_f  | 117.00us (  4.88us) 113.54us (  4.73us)        24\n",
      "   nlp_jac_g  | 183.00us (  7.63us) 190.01us (  7.92us)        24\n",
      "       total  | 124.70ms (124.70ms) 126.34ms (126.34ms)         1\n",
      "      solver  :   t_proc      (avg)   t_wall      (avg)    n_eval\n",
      "       nlp_f  | 115.00us (  4.42us) 110.54us (  4.25us)        26\n",
      "       nlp_g  | 636.00us ( 24.46us) 275.35us ( 10.59us)        26\n",
      "  nlp_grad_f  | 116.00us (  4.83us) 111.49us (  4.65us)        24\n",
      "   nlp_jac_g  | 217.00us (  9.04us) 185.94us (  7.75us)        24\n",
      "       total  | 121.12ms (121.12ms) 121.29ms (121.29ms)         1\n"
     ]
    },
    {
     "name": "stderr",
     "output_type": "stream",
     "text": [
      " 85%|████████▌ | 68/80 [00:16<00:01,  6.05it/s]"
     ]
    },
    {
     "name": "stdout",
     "output_type": "stream",
     "text": [
      "      solver  :   t_proc      (avg)   t_wall      (avg)    n_eval\n",
      "       nlp_f  | 101.00us (  3.88us)  99.21us (  3.82us)        26\n",
      "       nlp_g  | 403.00us ( 15.50us) 201.73us (  7.76us)        26\n",
      "  nlp_grad_f  | 115.00us (  4.79us) 100.48us (  4.19us)        24\n",
      "   nlp_jac_g  | 161.00us (  6.71us) 155.91us (  6.50us)        24\n",
      "       total  | 107.87ms (107.87ms) 107.69ms (107.69ms)         1\n",
      "      solver  :   t_proc      (avg)   t_wall      (avg)    n_eval\n",
      "       nlp_f  | 106.00us (  4.24us) 101.78us (  4.07us)        25\n",
      "       nlp_g  | 338.00us ( 13.52us) 193.62us (  7.74us)        25\n",
      "  nlp_grad_f  | 115.00us (  4.79us) 108.02us (  4.50us)        24\n",
      "   nlp_jac_g  | 177.00us (  7.38us) 174.82us (  7.28us)        24\n",
      "       total  | 124.73ms (124.73ms) 124.93ms (124.93ms)         1\n"
     ]
    },
    {
     "name": "stderr",
     "output_type": "stream",
     "text": [
      " 88%|████████▊ | 70/80 [00:16<00:01,  6.08it/s]"
     ]
    },
    {
     "name": "stdout",
     "output_type": "stream",
     "text": [
      "      solver  :   t_proc      (avg)   t_wall      (avg)    n_eval\n",
      "       nlp_f  |  97.00us (  3.88us)  95.61us (  3.82us)        25\n",
      "       nlp_g  | 401.00us ( 16.04us) 201.94us (  8.08us)        25\n",
      "  nlp_grad_f  | 106.00us (  4.42us) 104.99us (  4.37us)        24\n",
      "   nlp_jac_g  | 166.00us (  6.92us) 171.40us (  7.14us)        24\n",
      "       total  | 108.92ms (108.92ms) 108.85ms (108.85ms)         1\n",
      "      solver  :   t_proc      (avg)   t_wall      (avg)    n_eval\n",
      "       nlp_f  | 110.00us (  4.40us) 106.85us (  4.27us)        25\n",
      "       nlp_g  | 490.00us ( 19.60us) 247.80us (  9.91us)        25\n",
      "  nlp_grad_f  | 119.00us (  4.96us) 114.67us (  4.78us)        24\n",
      "   nlp_jac_g  | 189.00us (  7.88us) 185.08us (  7.71us)        24\n",
      "       total  | 120.76ms (120.76ms) 120.72ms (120.72ms)         1\n"
     ]
    },
    {
     "name": "stderr",
     "output_type": "stream",
     "text": [
      " 90%|█████████ | 72/80 [00:17<00:01,  6.42it/s]"
     ]
    },
    {
     "name": "stdout",
     "output_type": "stream",
     "text": [
      "      solver  :   t_proc      (avg)   t_wall      (avg)    n_eval\n",
      "       nlp_f  |  97.00us (  3.88us)  93.33us (  3.73us)        25\n",
      "       nlp_g  | 275.00us ( 11.00us) 170.45us (  6.82us)        25\n",
      "  nlp_grad_f  | 100.00us (  4.17us)  96.16us (  4.01us)        24\n",
      "   nlp_jac_g  | 159.00us (  6.63us) 157.82us (  6.58us)        24\n",
      "       total  | 102.22ms (102.22ms) 102.28ms (102.28ms)         1\n",
      "      solver  :   t_proc      (avg)   t_wall      (avg)    n_eval\n",
      "       nlp_f  | 101.00us (  3.88us) 101.72us (  3.91us)        26\n",
      "       nlp_g  | 387.00us ( 14.88us) 205.80us (  7.92us)        26\n",
      "  nlp_grad_f  | 108.00us (  4.50us) 101.71us (  4.24us)        24\n",
      "   nlp_jac_g  | 165.00us (  6.88us) 161.21us (  6.72us)        24\n",
      "       total  | 104.12ms (104.12ms) 104.44ms (104.44ms)         1\n"
     ]
    },
    {
     "name": "stderr",
     "output_type": "stream",
     "text": [
      " 92%|█████████▎| 74/80 [00:17<00:00,  6.14it/s]"
     ]
    },
    {
     "name": "stdout",
     "output_type": "stream",
     "text": [
      "      solver  :   t_proc      (avg)   t_wall      (avg)    n_eval\n",
      "       nlp_f  | 106.00us (  4.08us) 102.96us (  3.96us)        26\n",
      "       nlp_g  | 448.00us ( 17.23us) 228.54us (  8.79us)        26\n",
      "  nlp_grad_f  | 104.00us (  4.33us) 101.76us (  4.24us)        24\n",
      "   nlp_jac_g  | 170.00us (  7.08us) 164.46us (  6.85us)        24\n",
      "       total  | 106.50ms (106.50ms) 106.39ms (106.39ms)         1\n",
      "      solver  :   t_proc      (avg)   t_wall      (avg)    n_eval\n",
      "       nlp_f  | 120.00us (  4.62us) 115.98us (  4.46us)        26\n",
      "       nlp_g  | 670.00us ( 25.77us) 288.63us ( 11.10us)        26\n",
      "  nlp_grad_f  | 122.00us (  5.08us) 115.83us (  4.83us)        24\n",
      "   nlp_jac_g  | 196.00us (  8.17us) 200.50us (  8.35us)        24\n",
      "       total  | 127.94ms (127.94ms) 128.60ms (128.60ms)         1\n"
     ]
    },
    {
     "name": "stderr",
     "output_type": "stream",
     "text": [
      " 95%|█████████▌| 76/80 [00:17<00:00,  5.83it/s]"
     ]
    },
    {
     "name": "stdout",
     "output_type": "stream",
     "text": [
      "      solver  :   t_proc      (avg)   t_wall      (avg)    n_eval\n",
      "       nlp_f  | 116.00us (  4.46us) 113.18us (  4.35us)        26\n",
      "       nlp_g  | 468.00us ( 18.00us) 237.25us (  9.13us)        26\n",
      "  nlp_grad_f  | 117.00us (  4.88us) 116.50us (  4.85us)        24\n",
      "   nlp_jac_g  | 191.00us (  7.96us) 189.87us (  7.91us)        24\n",
      "       total  | 128.85ms (128.85ms) 130.56ms (130.56ms)         1\n",
      "      solver  :   t_proc      (avg)   t_wall      (avg)    n_eval\n",
      "       nlp_f  | 116.00us (  4.46us) 112.42us (  4.32us)        26\n",
      "       nlp_g  | 360.00us ( 13.85us) 215.40us (  8.28us)        26\n",
      "  nlp_grad_f  | 114.00us (  4.75us) 114.34us (  4.76us)        24\n",
      "   nlp_jac_g  | 184.00us (  7.67us) 186.62us (  7.78us)        24\n",
      "       total  | 126.83ms (126.83ms) 129.85ms (129.85ms)         1\n"
     ]
    },
    {
     "name": "stderr",
     "output_type": "stream",
     "text": [
      " 98%|█████████▊| 78/80 [00:18<00:00,  6.00it/s]"
     ]
    },
    {
     "name": "stdout",
     "output_type": "stream",
     "text": [
      "      solver  :   t_proc      (avg)   t_wall      (avg)    n_eval\n",
      "       nlp_f  | 108.00us (  4.15us) 102.38us (  3.94us)        26\n",
      "       nlp_g  | 426.00us ( 16.38us) 217.83us (  8.38us)        26\n",
      "  nlp_grad_f  | 107.00us (  4.46us) 104.26us (  4.34us)        24\n",
      "   nlp_jac_g  | 178.00us (  7.42us) 176.68us (  7.36us)        24\n",
      "       total  | 113.51ms (113.51ms) 113.92ms (113.92ms)         1\n",
      "      solver  :   t_proc      (avg)   t_wall      (avg)    n_eval\n",
      "       nlp_f  |  96.00us (  3.69us)  95.95us (  3.69us)        26\n",
      "       nlp_g  | 338.00us ( 13.00us) 183.84us (  7.07us)        26\n",
      "  nlp_grad_f  | 118.00us (  4.92us)  98.50us (  4.10us)        24\n",
      "   nlp_jac_g  | 163.00us (  6.79us) 158.67us (  6.61us)        24\n",
      "       total  | 107.33ms (107.33ms) 107.40ms (107.40ms)         1\n"
     ]
    },
    {
     "name": "stderr",
     "output_type": "stream",
     "text": [
      "100%|██████████| 80/80 [00:18<00:00,  4.35it/s]\n"
     ]
    },
    {
     "name": "stdout",
     "output_type": "stream",
     "text": [
      "      solver  :   t_proc      (avg)   t_wall      (avg)    n_eval\n",
      "       nlp_f  | 114.00us (  4.38us) 115.23us (  4.43us)        26\n",
      "       nlp_g  | 460.00us ( 17.69us) 229.58us (  8.83us)        26\n",
      "  nlp_grad_f  | 115.00us (  4.79us) 111.83us (  4.66us)        24\n",
      "   nlp_jac_g  | 185.00us (  7.71us) 182.10us (  7.59us)        24\n",
      "       total  | 120.31ms (120.31ms) 121.71ms (121.71ms)         1\n",
      "      solver  :   t_proc      (avg)   t_wall      (avg)    n_eval\n",
      "       nlp_f  | 122.00us (  4.69us) 109.80us (  4.22us)        26\n",
      "       nlp_g  | 456.00us ( 17.54us) 228.49us (  8.79us)        26\n",
      "  nlp_grad_f  | 113.00us (  4.71us) 115.53us (  4.81us)        24\n",
      "   nlp_jac_g  | 200.00us (  8.33us) 187.24us (  7.80us)        24\n",
      "       total  | 118.22ms (118.22ms) 118.18ms (118.18ms)         1\n"
     ]
    },
    {
     "name": "stderr",
     "output_type": "stream",
     "text": [
      "  1%|▏         | 1/80 [00:00<00:21,  3.74it/s]"
     ]
    },
    {
     "name": "stdout",
     "output_type": "stream",
     "text": [
      "      solver  :   t_proc      (avg)   t_wall      (avg)    n_eval\n",
      "       nlp_f  | 163.00us (  4.18us) 164.30us (  4.21us)        39\n",
      "       nlp_g  | 601.00us ( 15.41us) 337.18us (  8.65us)        39\n",
      "  nlp_grad_f  | 204.00us (  5.10us) 196.99us (  4.92us)        40\n",
      "   nlp_jac_g  | 324.00us (  8.10us) 318.43us (  7.96us)        40\n",
      "       total  | 218.50ms (218.50ms) 219.75ms (219.75ms)         1\n"
     ]
    },
    {
     "name": "stderr",
     "output_type": "stream",
     "text": [
      "  2%|▎         | 2/80 [00:00<00:19,  4.08it/s]"
     ]
    },
    {
     "name": "stdout",
     "output_type": "stream",
     "text": [
      "      solver  :   t_proc      (avg)   t_wall      (avg)    n_eval\n",
      "       nlp_f  | 174.00us (  3.95us) 168.43us (  3.83us)        44\n",
      "       nlp_g  | 463.00us ( 10.52us) 296.93us (  6.75us)        44\n",
      "  nlp_grad_f  | 175.00us (  4.37us) 169.99us (  4.25us)        40\n",
      "   nlp_jac_g  | 283.00us (  7.08us) 273.86us (  6.85us)        40\n",
      "       total  | 182.78ms (182.78ms) 183.28ms (183.28ms)         1\n"
     ]
    },
    {
     "name": "stderr",
     "output_type": "stream",
     "text": [
      "  4%|▍         | 3/80 [00:00<00:18,  4.09it/s]"
     ]
    },
    {
     "name": "stdout",
     "output_type": "stream",
     "text": [
      "      solver  :   t_proc      (avg)   t_wall      (avg)    n_eval\n",
      "       nlp_f  | 163.00us (  4.18us) 159.20us (  4.08us)        39\n",
      "       nlp_g  | 546.00us ( 14.00us) 304.51us (  7.81us)        39\n",
      "  nlp_grad_f  | 175.00us (  4.61us) 171.35us (  4.51us)        38\n",
      "   nlp_jac_g  | 280.00us (  7.37us) 274.88us (  7.23us)        38\n",
      "       total  | 194.00ms (194.00ms) 195.97ms (195.97ms)         1\n"
     ]
    },
    {
     "name": "stderr",
     "output_type": "stream",
     "text": [
      "  5%|▌         | 4/80 [00:00<00:18,  4.08it/s]"
     ]
    },
    {
     "name": "stdout",
     "output_type": "stream",
     "text": [
      "      solver  :   t_proc      (avg)   t_wall      (avg)    n_eval\n",
      "       nlp_f  | 158.00us (  4.16us) 157.21us (  4.14us)        38\n",
      "       nlp_g  | 572.00us ( 15.05us) 316.19us (  8.32us)        38\n",
      "  nlp_grad_f  | 197.00us (  5.18us) 178.29us (  4.69us)        38\n",
      "   nlp_jac_g  | 293.00us (  7.71us) 305.04us (  8.03us)        38\n",
      "       total  | 194.47ms (194.47ms) 195.84ms (195.84ms)         1\n"
     ]
    },
    {
     "name": "stderr",
     "output_type": "stream",
     "text": [
      "  6%|▋         | 5/80 [00:01<00:17,  4.20it/s]"
     ]
    },
    {
     "name": "stdout",
     "output_type": "stream",
     "text": [
      "      solver  :   t_proc      (avg)   t_wall      (avg)    n_eval\n",
      "       nlp_f  | 158.00us (  4.05us) 154.85us (  3.97us)        39\n",
      "       nlp_g  | 531.00us ( 13.62us) 298.62us (  7.66us)        39\n",
      "  nlp_grad_f  | 173.00us (  4.68us) 167.18us (  4.52us)        37\n",
      "   nlp_jac_g  | 272.00us (  7.35us) 268.37us (  7.25us)        37\n",
      "       total  | 176.18ms (176.18ms) 176.87ms (176.87ms)         1\n"
     ]
    },
    {
     "name": "stderr",
     "output_type": "stream",
     "text": [
      "  8%|▊         | 6/80 [00:01<00:18,  3.92it/s]"
     ]
    },
    {
     "name": "stdout",
     "output_type": "stream",
     "text": [
      "      solver  :   t_proc      (avg)   t_wall      (avg)    n_eval\n",
      "       nlp_f  | 217.00us (  4.09us) 211.97us (  4.00us)        53\n",
      "       nlp_g  | 697.00us ( 13.15us) 413.59us (  7.80us)        53\n",
      "  nlp_grad_f  | 215.00us (  4.48us) 210.67us (  4.39us)        48\n",
      "   nlp_jac_g  | 353.00us (  7.35us) 351.09us (  7.31us)        48\n",
      "       total  | 240.81ms (240.81ms) 241.40ms (241.40ms)         1\n"
     ]
    },
    {
     "name": "stderr",
     "output_type": "stream",
     "text": [
      "  9%|▉         | 7/80 [00:01<00:20,  3.55it/s]"
     ]
    },
    {
     "name": "stdout",
     "output_type": "stream",
     "text": [
      "      solver  :   t_proc      (avg)   t_wall      (avg)    n_eval\n",
      "       nlp_f  | 289.00us (  4.19us) 283.65us (  4.11us)        69\n",
      "       nlp_g  |   1.21ms ( 17.57us) 609.93us (  8.84us)        69\n",
      "  nlp_grad_f  | 266.00us (  5.02us) 259.33us (  4.89us)        53\n",
      "   nlp_jac_g  | 428.00us (  8.08us) 425.91us (  8.04us)        53\n",
      "       total  | 279.31ms (279.31ms) 279.32ms (279.32ms)         1\n"
     ]
    },
    {
     "name": "stderr",
     "output_type": "stream",
     "text": [
      " 10%|█         | 8/80 [00:02<00:21,  3.36it/s]"
     ]
    },
    {
     "name": "stdout",
     "output_type": "stream",
     "text": [
      "      solver  :   t_proc      (avg)   t_wall      (avg)    n_eval\n",
      "       nlp_f  | 298.00us (  4.38us) 276.13us (  4.06us)        68\n",
      "       nlp_g  |   1.24ms ( 18.21us) 615.92us (  9.06us)        68\n",
      "  nlp_grad_f  | 245.00us (  4.62us) 240.94us (  4.55us)        53\n",
      "   nlp_jac_g  | 409.00us (  7.72us) 423.64us (  7.99us)        53\n",
      "       total  | 270.22ms (270.22ms) 269.57ms (269.57ms)         1\n"
     ]
    },
    {
     "name": "stderr",
     "output_type": "stream",
     "text": [
      " 11%|█▏        | 9/80 [00:02<00:19,  3.59it/s]"
     ]
    },
    {
     "name": "stdout",
     "output_type": "stream",
     "text": [
      "      solver  :   t_proc      (avg)   t_wall      (avg)    n_eval\n",
      "       nlp_f  | 243.00us (  3.98us) 238.23us (  3.91us)        61\n",
      "       nlp_g  |   1.10ms ( 18.10us) 526.38us (  8.63us)        61\n",
      "  nlp_grad_f  | 191.00us (  4.90us) 183.29us (  4.70us)        39\n",
      "   nlp_jac_g  | 290.00us (  7.44us) 292.54us (  7.50us)        39\n",
      "       total  | 187.19ms (187.19ms) 186.95ms (186.95ms)         1\n"
     ]
    },
    {
     "name": "stderr",
     "output_type": "stream",
     "text": [
      " 12%|█▎        | 10/80 [00:02<00:18,  3.77it/s]"
     ]
    },
    {
     "name": "stdout",
     "output_type": "stream",
     "text": [
      "      solver  :   t_proc      (avg)   t_wall      (avg)    n_eval\n",
      "       nlp_f  | 209.00us (  3.94us) 220.76us (  4.17us)        53\n",
      "       nlp_g  | 908.00us ( 17.13us) 452.87us (  8.54us)        53\n",
      "  nlp_grad_f  | 171.00us (  4.75us) 167.61us (  4.66us)        36\n",
      "   nlp_jac_g  | 255.00us (  7.08us) 256.76us (  7.13us)        36\n",
      "       total  | 168.76ms (168.76ms) 168.72ms (168.72ms)         1\n"
     ]
    },
    {
     "name": "stderr",
     "output_type": "stream",
     "text": [
      " 14%|█▍        | 11/80 [00:02<00:17,  4.03it/s]"
     ]
    },
    {
     "name": "stdout",
     "output_type": "stream",
     "text": [
      "      solver  :   t_proc      (avg)   t_wall      (avg)    n_eval\n",
      "       nlp_f  | 209.00us (  4.02us) 214.87us (  4.13us)        52\n",
      "       nlp_g  | 944.00us ( 18.15us) 497.51us (  9.57us)        52\n",
      "  nlp_grad_f  | 150.00us (  4.69us) 147.18us (  4.60us)        32\n",
      "   nlp_jac_g  | 258.00us (  8.06us) 242.47us (  7.58us)        32\n",
      "       total  | 161.98ms (161.98ms) 161.64ms (161.64ms)         1\n",
      "      solver  :   t_proc      (avg)   t_wall      (avg)    n_eval\n",
      "       nlp_f  | 204.00us (  4.74us) 178.79us (  4.16us)        43\n",
      "       nlp_g  | 807.00us ( 18.77us) 387.65us (  9.02us)        43\n",
      "  nlp_grad_f  | 146.00us (  4.71us) 137.28us (  4.43us)        31\n",
      "   nlp_jac_g  | 239.00us (  7.71us) 241.53us (  7.79us)        31\n",
      "       total  | 158.09ms (158.09ms) 159.87ms (159.87ms)         1\n"
     ]
    },
    {
     "name": "stderr",
     "output_type": "stream",
     "text": [
      " 15%|█▌        | 12/80 [00:03<00:16,  4.25it/s]"
     ]
    }
   ],
   "source": [
    "import dataclasses\n",
    "from collections import defaultdict\n",
    "from typing import Any, Tuple, override\n",
    "\n",
    "import cv2\n",
    "import jax\n",
    "import jax.numpy as jnp\n",
    "import mediapy\n",
    "import numpy as np\n",
    "import waymax.utils.geometry as utils\n",
    "import casadi\n",
    "from dm_env import specs\n",
    "from matplotlib import pyplot as plt\n",
    "from scipy.spatial import KDTree\n",
    "from tqdm import tqdm\n",
    "from waymax import agents\n",
    "from waymax import config as _config\n",
    "from waymax import dataloader, datatypes, dynamics\n",
    "from waymax import env as _env\n",
    "from waymax import metrics, visualization\n",
    "from waymax.env import typedefs as types\n",
    "from waymax.metrics.roadgraph import is_offroad\n",
    "\n",
    "\n",
    "def construct_SDC_route(\n",
    "    state: _env.PlanningAgentSimulatorState,\n",
    ") -> _env.PlanningAgentSimulatorState:\n",
    "    \"\"\"Construct a SDC route from the logged trajectory. This is neccessary for the progression metric as WOMD doesn't release their routes.\n",
    "    Args:\n",
    "        state: The simulator state.\n",
    "    Returns:\n",
    "        The updated simulator state with the SDC route.\n",
    "    \"\"\"\n",
    "    # Calculate arc lengths (cumulative distances along the trajectory)\n",
    "    # Select sdc trajectory\n",
    "    sdc_trajectory: datatypes.Trajectory = datatypes.select_by_onehot(\n",
    "        state.log_trajectory,\n",
    "        state.object_metadata.is_sdc,\n",
    "        keepdims=True,\n",
    "    )\n",
    "    x = sdc_trajectory.x\n",
    "    y = sdc_trajectory.y\n",
    "    z = sdc_trajectory.z\n",
    "\n",
    "    # Downsample trajectory coordinates\n",
    "    stride = 5  # Downsample every 5th point\n",
    "\n",
    "    # Get downsampled coordinates\n",
    "    x_downsampled = x[..., ::stride]\n",
    "    y_downsampled = y[..., ::stride]\n",
    "    z_downsampled = z[..., ::stride]\n",
    "\n",
    "    # Check if last point needs to be added\n",
    "    num_points = x.shape[-1]\n",
    "    last_included = (num_points - 1) % stride == 0\n",
    "\n",
    "    x = jnp.concatenate([x_downsampled, x[..., -1:]], axis=-1)\n",
    "    y = jnp.concatenate([y_downsampled, y[..., -1:]], axis=-1)\n",
    "    z = jnp.concatenate([z_downsampled, z[..., -1:]], axis=-1)\n",
    "\n",
    "    # Calculate differences between consecutive points\n",
    "    dx = jnp.diff(x, axis=-1)\n",
    "    dy = jnp.diff(y, axis=-1)\n",
    "\n",
    "    # Calculate Euclidean distance for each step\n",
    "    step_distances = jnp.sqrt(dx**2 + dy**2)\n",
    "\n",
    "    # Calculate cumulative distances\n",
    "    arc_lengths = jnp.zeros_like(x)\n",
    "    arc_lengths = arc_lengths.at[..., 1:].set(jnp.cumsum(step_distances, axis=-1))\n",
    "\n",
    "    logged_route = datatypes.Paths(\n",
    "        x=x,\n",
    "        y=y,\n",
    "        z=z,\n",
    "        valid=jnp.array([[True] * len(x[0])]),\n",
    "        arc_length=arc_lengths,\n",
    "        on_route=jnp.array([[True]]),\n",
    "        ids=jnp.array([[0] * len(x)]),  # Dummy ID\n",
    "    )\n",
    "    return dataclasses.replace(\n",
    "        state,\n",
    "        sdc_paths=logged_route,\n",
    "    )\n",
    "\n",
    "\n",
    "def ray_segment_intersection(\n",
    "    ray_angle: jax.Array, start_points: jax.Array, segment_dirs: jax.Array\n",
    ") -> jax.Array:\n",
    "    \"\"\"\n",
    "    Calculate the intersection distances between a ray and line segments.\n",
    "\n",
    "    Args:\n",
    "        ray_angle: The angle of the ray (in radians).\n",
    "        start_points: Array of shape (N, 2) for segment start points (x,y).\n",
    "        segment_dirs: Array of shape (N, 2) for segment directions (dx, dy).\n",
    "\n",
    "    Returns:\n",
    "        Array of distances from origin to intersections. Returns 100.0 if no intersection.\n",
    "    \"\"\"\n",
    "    # Calculate ray direction\n",
    "    ray_dir_x = jnp.sin(ray_angle)\n",
    "    ray_dir_y = jnp.cos(ray_angle)\n",
    "\n",
    "    # Calculate segment direction\n",
    "    segment_dir_x = segment_dirs[:, 0]\n",
    "    segment_dir_y = segment_dirs[:, 1]\n",
    "\n",
    "    # Calculate determinant for intersection test\n",
    "    det = segment_dir_x * ray_dir_y - segment_dir_y * ray_dir_x\n",
    "\n",
    "    # Avoid division by zero for parallel lines\n",
    "    is_parallel = jnp.abs(det) < 1e-8\n",
    "    det = jnp.where(is_parallel, 1.0, det)  # Avoid division by zero\n",
    "\n",
    "    # Calculate t1 and t2 parameters\n",
    "    t1 = (start_points[:, 0] * ray_dir_y - start_points[:, 1] * ray_dir_x) / det\n",
    "    t2 = (start_points[:, 0] * segment_dir_y - start_points[:, 1] * segment_dir_x) / det\n",
    "\n",
    "    # Check if intersection is within segment (0 <= t1 <= 1) and ray (t2 >= 0)\n",
    "    valid_t1 = (t1 >= 0.0) & (t1 <= 1.0)\n",
    "    valid_t2 = t2 >= 0.0\n",
    "\n",
    "    # Combine intersection validity checks\n",
    "    valid_intersection = valid_t1 & valid_t2 & ~is_parallel\n",
    "\n",
    "    # Calculate intersection points and distances\n",
    "    ix = start_points[:, 0] + t1 * segment_dir_x\n",
    "    iy = start_points[:, 1] + t1 * segment_dir_y\n",
    "\n",
    "    # Distance from origin to intersection point\n",
    "    distances = jnp.sqrt(ix**2 + iy**2)\n",
    "\n",
    "    # Make sure distances over 100 are not valid\n",
    "    valid_intersection = valid_intersection & (distances < 100.0)\n",
    "\n",
    "    # Return distance if valid intersection, otherwise 100.0\n",
    "    return jnp.where(valid_intersection, distances, 100.0)\n",
    "\n",
    "\n",
    "def find_closest_distance(\n",
    "    i, initval: Tuple[jax.Array, datatypes.RoadgraphPoints, jax.Array]\n",
    "):\n",
    "    circogram, rg_points, ray_angles = initval\n",
    "    ray_angle = ray_angles[i]\n",
    "\n",
    "    # Only consider valid points\n",
    "    candidate_points = rg_points.valid\n",
    "\n",
    "    # Only consider road edge points\n",
    "    candidate_points = candidate_points & (\n",
    "        (rg_points.types == datatypes.MapElementIds.ROAD_EDGE_BOUNDARY)\n",
    "        | (rg_points.types == datatypes.MapElementIds.ROAD_EDGE_MEDIAN)\n",
    "        | (rg_points.types == datatypes.MapElementIds.ROAD_EDGE_UNKNOWN)\n",
    "    )\n",
    "\n",
    "    # If no valid points, return the default distance\n",
    "    has_valid = jnp.any(candidate_points)\n",
    "\n",
    "    # Create line segments from roadgraph points\n",
    "    starting_points = jnp.stack([rg_points.x, rg_points.y], axis=1)\n",
    "    dir_xy = jnp.stack([rg_points.dir_x, rg_points.dir_y], axis=1)\n",
    "\n",
    "    # Calculate intersection distances\n",
    "    intersection_distances = ray_segment_intersection(\n",
    "        ray_angle, starting_points, dir_xy\n",
    "    )\n",
    "    masked_distances = jnp.where(candidate_points, intersection_distances, 100.0)\n",
    "\n",
    "    # Find minimum distance among valid points\n",
    "    min_distance = jnp.min(masked_distances)\n",
    "\n",
    "    # Update only the i-th element and return the whole array\n",
    "    circogram = circogram.at[i].set(jnp.where(has_valid, min_distance, circogram[i]))\n",
    "    return circogram, rg_points, ray_angles\n",
    "\n",
    "\n",
    "def create_circogram(observation: datatypes.Observation, num_rays: int) -> jax.Array:\n",
    "    ray_angles = jnp.linspace(0, 2 * jnp.pi, num_rays, endpoint=False)\n",
    "    rg_points = observation.roadgraph_static_points\n",
    "    # For each ray angle, find the closest intersection\n",
    "    circogram = jnp.full(num_rays, 100.0)  # Default max distance\n",
    "    (\n",
    "        circogram,\n",
    "        _,\n",
    "        _,\n",
    "    ) = jax.lax.fori_loop(\n",
    "        0,\n",
    "        num_rays,\n",
    "        find_closest_distance,\n",
    "        (circogram, rg_points, ray_angles),\n",
    "    )\n",
    "    return circogram\n",
    "\n",
    "\n",
    "class WaymaxEnv(_env.PlanningAgentEnvironment):\n",
    "    def __init__(self, *args, **kwargs):\n",
    "        super().__init__(*args, **kwargs)\n",
    "\n",
    "    @override\n",
    "    def observe(self, state: _env.PlanningAgentSimulatorState) -> Any:\n",
    "        \"\"\"Computes the observation for the given simulation state.\n",
    "\n",
    "        Here we assume that the default observation is just the simulator state. We\n",
    "        leave this for the user to override in order to provide a user-specific\n",
    "        observation function. A user can use this to move some of their model\n",
    "        specific post-processing into the environment rollout in the actor nodes. If\n",
    "        they want this post-processing on the accelerator, they can keep this the\n",
    "        same and implement it on the learner side. We provide some helper functions\n",
    "        at datatypes.observation.py to help write your own observation functions.\n",
    "\n",
    "        Args:\n",
    "          state: Current state of the simulator of shape (...).\n",
    "\n",
    "        Returns:\n",
    "          Simulator state as an observation without modifications of shape (...).\n",
    "        \"\"\"\n",
    "        # Get base observation from SDC perspective first\n",
    "        observation = datatypes.sdc_observation_from_state(state, roadgraph_top_k=1000)\n",
    "\n",
    "        sdc_trajectory = datatypes.select_by_onehot(\n",
    "            observation.trajectory,\n",
    "            observation.is_ego,\n",
    "            keepdims=True,\n",
    "        )\n",
    "        sdc_velocity_xy = sdc_trajectory.vel_xy\n",
    "\n",
    "        # Create the goal position from the last point in the logged trajectory\n",
    "        sdc_xy_goal = datatypes.select_by_onehot(\n",
    "            state.log_trajectory.xy[..., -1, :],\n",
    "            state.object_metadata.is_sdc,\n",
    "            keepdims=True,\n",
    "        )\n",
    "        sdc_xy_goal = utils.transform_points(observation.pose2d.matrix, sdc_xy_goal)[0]\n",
    "        # Convert the goal position from Cartesian to polar coordinates\n",
    "        sdc_goal_distance = jnp.sqrt(\n",
    "            sdc_xy_goal[..., 0] ** 2 + sdc_xy_goal[..., 1] ** 2\n",
    "        )\n",
    "        sdc_goal_angle = jnp.arctan2(sdc_xy_goal[..., 1], sdc_xy_goal[..., 0])\n",
    "        sdc_yaw_goal = datatypes.select_by_onehot(\n",
    "            state.log_trajectory.yaw[..., -1],\n",
    "            state.object_metadata.is_sdc,\n",
    "            keepdims=True,\n",
    "        )\n",
    "\n",
    "        sdc_offroad = is_offroad(sdc_trajectory, observation.roadgraph_static_points)\n",
    "        sdc_offroad = sdc_offroad.astype(jnp.float32)  # Convert boolean to float32\n",
    "\n",
    "        _, sdc_idx = jax.lax.top_k(observation.is_ego, k=1)\n",
    "        non_sdc_xy = jnp.delete(\n",
    "            observation.trajectory.xy, sdc_idx, axis=1, assume_unique_indices=True\n",
    "        ).reshape(31, 2)\n",
    "        non_sdc_vel_xy = jnp.delete(\n",
    "            observation.trajectory.vel_xy, sdc_idx, axis=1, assume_unique_indices=True\n",
    "        ).reshape(31, 2)\n",
    "        non_sdc_valid = jnp.delete(\n",
    "            observation.trajectory.valid, sdc_idx, axis=1, assume_unique_indices=True\n",
    "        ).reshape(31, 1)\n",
    "        # Set positions of invalid objects to 10000\n",
    "        non_sdc_xy = non_sdc_xy * non_sdc_valid + (1 - non_sdc_valid) * 10000\n",
    "        # Set velocities of invalid objects to 0\n",
    "        non_sdc_vel_xy = non_sdc_vel_xy * non_sdc_valid\n",
    "\n",
    "        num_rays = 64\n",
    "        circogram = create_circogram(observation, num_rays)\n",
    "\n",
    "        obs = jnp.concatenate(\n",
    "            [\n",
    "                sdc_goal_distance.flatten(),\n",
    "                sdc_goal_angle.flatten(),\n",
    "                sdc_velocity_xy.flatten(),\n",
    "                sdc_offroad.flatten(),\n",
    "                circogram.flatten(),\n",
    "            ],\n",
    "            axis=-1,\n",
    "        )\n",
    "        return obs\n",
    "\n",
    "    @override\n",
    "    def observation_spec(self) -> types.Observation:\n",
    "        \"\"\"Returns the observation spec of the environment.\n",
    "        Returns:\n",
    "            Observation spec of the environment.\n",
    "        \"\"\"\n",
    "        # Define dimensions for each observation component\n",
    "        sdc_goal_dim = 2\n",
    "        sdc_vel_dim = 2\n",
    "        sdc_offroad_dim = 1\n",
    "        circogram_dim = 64\n",
    "\n",
    "        # Total shape is the sum of all component dimensions\n",
    "        total_dim = sdc_goal_dim + sdc_vel_dim + sdc_offroad_dim + circogram_dim\n",
    "\n",
    "        # Define min/max bounds for each component\n",
    "        sdc_goal_min = [-1000] * sdc_goal_dim\n",
    "        sdc_goal_max = [1000] * sdc_goal_dim\n",
    "\n",
    "        sdc_vel_min = [-30] * sdc_vel_dim\n",
    "        sdc_vel_max = [30] * sdc_vel_dim\n",
    "\n",
    "        sdc_offroad_min = [0] * sdc_offroad_dim\n",
    "        sdc_offroad_max = [1] * sdc_offroad_dim\n",
    "\n",
    "        circogram_min = [0] * circogram_dim\n",
    "        circogram_max = [100] * circogram_dim\n",
    "\n",
    "        # Combine all bounds\n",
    "        min_bounds = jnp.array(\n",
    "            sdc_goal_min + sdc_vel_min + sdc_offroad_min + circogram_min\n",
    "        )\n",
    "        max_bounds = jnp.array(\n",
    "            sdc_goal_max + sdc_vel_max + sdc_offroad_max + circogram_max\n",
    "        )\n",
    "\n",
    "        return specs.BoundedArray(\n",
    "            shape=(total_dim,),\n",
    "            minimum=min_bounds,\n",
    "            maximum=max_bounds,\n",
    "            dtype=jnp.float32,\n",
    "        )\n",
    "\n",
    "max_num_objects = 128\n",
    "config = dataclasses.replace(\n",
    "    _config.WOD_1_1_0_TRAINING,\n",
    "    max_num_objects=max_num_objects,\n",
    "    max_num_rg_points=30000,\n",
    "    path=\"./data/training_tfexample.tfrecord@5\",\n",
    ")\n",
    "data_iter = dataloader.simulator_state_generator(config=config)\n",
    "sim_agent_config = _config.SimAgentConfig(\n",
    "    agent_type=_config.SimAgentType.IDM,\n",
    "    controlled_objects=_config.ObjectType.NON_SDC,\n",
    ")\n",
    "metrics_config = _config.MetricsConfig(\n",
    "    metrics_to_run=(\"sdc_progression\", \"offroad\")\n",
    ")\n",
    "reward_config = _config.LinearCombinationRewardConfig(\n",
    "    rewards={\"sdc_progression\": 1.0, \"offroad\": -1.0},\n",
    ")\n",
    "env_config = dataclasses.replace(\n",
    "    _config.EnvironmentConfig(),\n",
    "    metrics=metrics_config,\n",
    "    rewards=reward_config,\n",
    "    max_num_objects=max_num_objects,\n",
    "    sim_agents=[sim_agent_config],\n",
    ")\n",
    "dynamics_model = dynamics.InvertibleBicycleModel(normalize_actions=True)\n",
    "env = WaymaxEnv(\n",
    "    dynamics_model=dynamics_model,\n",
    "    config=env_config,\n",
    "    sim_agent_actors=[agents.create_sim_agents_from_config(sim_agent_config)],\n",
    "    sim_agent_params=[{}],\n",
    ")\n",
    "\n",
    "obj_idx = jnp.arange(max_num_objects)\n",
    "actor = agents.create_constant_speed_actor(\n",
    "    speed=5.0,\n",
    "    dynamics_model=dynamics_model,\n",
    "    is_controlled_func=lambda state: obj_idx !=-1,\n",
    ")\n",
    "expert_actor = agents.create_expert_actor(\n",
    "    dynamics_model=dynamics_model,\n",
    "    is_controlled_func=lambda state: obj_idx !=-1,\n",
    ")\n",
    "jit_step =jax.jit(env.step)\n",
    "jit_select = jax.jit(datatypes.select_by_onehot, static_argnums=(2))\n",
    "jit_select_action = jax.jit(expert_actor.select_action)\n",
    "jit_observe = jax.jit(env.observe)\n",
    "jit_observe_from_state = jax.jit(datatypes.sdc_observation_from_state)\n",
    "jit_reward = jax.jit(env.reward)\n",
    "jit_construct_SDC_route = jax.jit(construct_SDC_route)\n",
    "jit_reset = jax.jit(env.reset)\n",
    "jit_transform_points = jax.jit(utils.transform_points)\n",
    "\n",
    "def mpc(state: _env.PlanningAgentSimulatorState) -> datatypes.Action:\n",
    "    observation = jit_observe_from_state(state)\n",
    "    sdc_trajectory = jit_select(\n",
    "        observation.trajectory,\n",
    "        observation.is_ego,\n",
    "        keepdims=True,\n",
    "    )\n",
    "    sdc_velocity_xy = sdc_trajectory.vel_xy\n",
    "    sdc_xy_goal = jit_select(\n",
    "        state.log_trajectory.xy[..., -1, :],\n",
    "        state.object_metadata.is_sdc,\n",
    "        keepdims=True,\n",
    "    )\n",
    "    sdc_xy_goal = jit_transform_points(observation.pose2d.matrix, sdc_xy_goal)[0]\n",
    "\n",
    "    start_x = 0.0\n",
    "    start_y = 0.0\n",
    "    start_yaw = 0.0\n",
    "    start_vel_x = float(sdc_velocity_xy.flatten()[0])\n",
    "    start_vel_y = float(sdc_velocity_xy.flatten()[1])\n",
    "    current_speed = np.sqrt(start_vel_x**2 + start_vel_y**2)\n",
    "\n",
    "    target_x = float(sdc_xy_goal[0])\n",
    "    target_y = float(sdc_xy_goal[1])\n",
    "\n",
    "\n",
    "    MAX_ACCEL = 6.0\n",
    "    MAX_STEERING = 0.3\n",
    "    DT = 0.1\n",
    "    N = 20  # Shorter horizon for speed\n",
    "\n",
    "    try:\n",
    "        # Create an optimization problem\n",
    "        opti = casadi.Opti()\n",
    "\n",
    "        # State variables - use scalar speed instead of separate velocities\n",
    "        x = opti.variable(N+1)  # x position\n",
    "        y = opti.variable(N+1)  # y position\n",
    "        yaw = opti.variable(N+1)  # heading angle\n",
    "        speed = opti.variable(N+1)  # scalar speed\n",
    "\n",
    "        # Control inputs - use normalized controls\n",
    "        accel_norm = opti.variable(N)  # normalized acceleration\n",
    "        steering_norm = opti.variable(N)  # normalized steering\n",
    "\n",
    "        # Initial conditions\n",
    "        opti.subject_to(x[0] == start_x)\n",
    "        opti.subject_to(y[0] == start_y)\n",
    "        opti.subject_to(yaw[0] == start_yaw)\n",
    "        opti.subject_to(speed[0] == current_speed)\n",
    "\n",
    "        # Dynamics constraints (simplified bicycle model)\n",
    "        for i in range(N):\n",
    "            # Denormalize controls\n",
    "            accel = accel_norm[i] * MAX_ACCEL\n",
    "            steering = steering_norm[i] * MAX_STEERING\n",
    "            \n",
    "            # Simplified dynamics - avoid division by small speed\n",
    "            opti.subject_to(x[i+1] == x[i] + DT * speed[i] * casadi.cos(yaw[i]))\n",
    "            opti.subject_to(y[i+1] == y[i] + DT * speed[i] * casadi.sin(yaw[i]))\n",
    "            opti.subject_to(speed[i+1] == speed[i] + DT * accel)\n",
    "            \n",
    "            # Yaw dynamics \n",
    "            opti.subject_to(yaw[i+1] == yaw[i] + DT * steering * speed[i])\n",
    "\n",
    "        # Bound controls between -1 and 1 (normalized)\n",
    "        for i in range(N):\n",
    "            opti.subject_to(accel_norm[i] >= -1.0)\n",
    "            opti.subject_to(accel_norm[i] <= 1.0)\n",
    "            opti.subject_to(steering_norm[i] >= -1.0)\n",
    "            opti.subject_to(steering_norm[i] <= 1.0)\n",
    "\n",
    "        # Speed constraints\n",
    "        for i in range(N+1):\n",
    "            opti.subject_to(speed[i] >= 0.0)  # Minimum speed 0.0 m/s\n",
    "            opti.subject_to(speed[i] <= 20.0)  # Maximum speed 20 m/s\n",
    "\n",
    "        # Simplified objective function\n",
    "        distance_to_goal = (x[N] - target_x)**2 + (y[N] - target_y)**2  # Terminal cost\n",
    "        control_effort = casadi.sum1(accel_norm**2 + 5.0 * steering_norm**2)  # Control regularization\n",
    "        \n",
    "        # Provide initial guess - critical for convergence!\n",
    "        opti.set_initial(x, np.linspace(start_x, target_x, N+1))\n",
    "        opti.set_initial(y, np.linspace(start_y, target_y, N+1))\n",
    "        opti.set_initial(yaw, np.zeros(N+1))\n",
    "        opti.set_initial(speed, np.ones(N+1) * max(0.5, current_speed))\n",
    "        opti.set_initial(accel_norm, np.zeros(N))\n",
    "        opti.set_initial(steering_norm, np.zeros(N))\n",
    "\n",
    "        # Set objective\n",
    "        opti.minimize(10.0 * distance_to_goal + control_effort)\n",
    "\n",
    "        # Better solver options\n",
    "        p_opts = {\"expand\": True, \"print_time\": False}\n",
    "        s_opts = {\n",
    "            \"max_iter\": 100,\n",
    "            \"print_level\": 0,\n",
    "            \"acceptable_tol\": 1e-2,  # Looser tolerance for better convergence\n",
    "            \"acceptable_obj_change_tol\": 1e-2,\n",
    "            \"hessian_approximation\": \"limited-memory\"  # Use L-BFGS for better numerical stability\n",
    "        }\n",
    "        opti.solver('ipopt', p_opts, s_opts)\n",
    "        \n",
    "        sol = opti.solve()\n",
    "        optimal_accel = float(sol.value(accel_norm[0]))\n",
    "        optimal_steering = float(sol.value(steering_norm[0]))\n",
    "\n",
    "    except Exception as e:\n",
    "        print(f\"MPC failed: {str(e)[:100]}...\")  # Print first part of error\n",
    "        \n",
    "        # Fallback to simple controller\n",
    "        angle_to_target = np.arctan2(target_y, target_x)\n",
    "        angle_diff = angle_to_target - start_yaw\n",
    "        # Normalize angle difference to [-pi, pi]\n",
    "        angle_diff = np.arctan2(np.sin(angle_diff), np.cos(angle_diff))\n",
    "        \n",
    "        optimal_steering = np.clip(0.5 * angle_diff / MAX_STEERING, -1.0, 1.0)\n",
    "        optimal_accel = 0.3  # Moderate acceleration for fallback\n",
    "        \n",
    "    return datatypes.Action(\n",
    "        data=jnp.array([optimal_accel, optimal_steering]),\n",
    "        valid=jnp.array([True]),\n",
    "    )\n",
    "\n",
    "states= []\n",
    "for _ in range(13):\n",
    "    scenario = next(data_iter)\n",
    "    state=jit_reset(scenario)\n",
    "    state=jit_construct_SDC_route(state)\n",
    "    states.append(state)\n",
    "    for _ in tqdm(range(80)):\n",
    "        action=mpc(state)\n",
    "        state = jit_step(state, action)\n",
    "        reward = jit_reward(state, action)\n",
    "        states.append(state)\n",
    "imgs = []\n",
    "for state in states:\n",
    "    img = visualization.plot_simulator_state(state, use_log_traj=False)\n",
    "    imgs.append(img)\n",
    "\n",
    "mediapy.show_video(imgs, fps=10)"
   ]
  }
 ],
 "metadata": {
  "kernelspec": {
   "display_name": ".venv",
   "language": "python",
   "name": "python3"
  },
  "language_info": {
   "codemirror_mode": {
    "name": "ipython",
    "version": 3
   },
   "file_extension": ".py",
   "mimetype": "text/x-python",
   "name": "python",
   "nbconvert_exporter": "python",
   "pygments_lexer": "ipython3",
   "version": "3.12.9"
  }
 },
 "nbformat": 4,
 "nbformat_minor": 2
}
